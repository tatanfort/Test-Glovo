{
 "cells": [
  {
   "cell_type": "markdown",
   "metadata": {},
   "source": [
    "____________________________________\n",
    "\n",
    "<div align=\"center\">\n",
    "  \n",
    "# Data Science Technical Test \n",
    "# Glovo\n",
    "### ___A Glovers churn prediction problem___\n",
    "<br>\n",
    "<br><br>\n",
    "Nathan REDIN\n",
    "<div align=\"center\"> \n",
    "_____________________________________\n"
   ]
  },
  {
   "cell_type": "markdown",
   "metadata": {},
   "source": [
    "<br><br><br>\n",
    "### ___SUMMARY___:<br>\n",
    "_The aim of this project is to tackle an important issue among the glovers community: __the churn__. <br>\n",
    "We would like to be able to predict which drivers are going to churn on the next three weeks based on their lifetime data and informations about their behaviour for the last 7 weeks._ <br><br><br><br><br><br><br>"
   ]
  },
  {
   "cell_type": "markdown",
   "metadata": {},
   "source": [
    "# Table of contents <br>\n",
    "1. [__TASK 1 : Data Analysis and Data Processing__](#TITLE1)\n",
    "    1. [Exploratory Data Analysis¶](#subparagraph1.1)\n",
    "    2. [Data Munging¶](#subparagraph1.2) <br>\n",
    "<br>\n",
    "2. [__TASK 2 : Creation of a predictive algorithm__](#TITLE2)\n",
    "    1. [First tests of some classification algorithms](#subparagraph2.1) \n",
    "    2. [Hyper-parameters tuning](#subparagraph2.2) <br>\n",
    "<br>\n",
    "3. [__Task 3 : Evaluation of the Model__](#TITLE3)\n",
    "    1. [Model evaluation](#subparagraph3.1)\n",
    "    2. [Model interpretation and features importances](#subparagraph3.2) <br>\n",
    "\n",
    "<br><br><br><br>\n",
    "<br><br>"
   ]
  },
  {
   "cell_type": "code",
   "execution_count": 1,
   "metadata": {},
   "outputs": [
    {
     "name": "stderr",
     "output_type": "stream",
     "text": [
      "/Users/nathanredin/anaconda3/lib/python3.7/site-packages/dask/config.py:168: YAMLLoadWarning: calling yaml.load() without Loader=... is deprecated, as the default Loader is unsafe. Please read https://msg.pyyaml.org/load for full details.\n",
      "  data = yaml.load(f.read()) or {}\n",
      "/Users/nathanredin/anaconda3/lib/python3.7/site-packages/dask/dataframe/utils.py:13: FutureWarning: pandas.util.testing is deprecated. Use the functions in the public API at pandas.testing instead.\n",
      "  import pandas.util.testing as tm\n",
      "/Users/nathanredin/anaconda3/lib/python3.7/site-packages/distributed/config.py:20: YAMLLoadWarning: calling yaml.load() without Loader=... is deprecated, as the default Loader is unsafe. Please read https://msg.pyyaml.org/load for full details.\n",
      "  defaults = yaml.load(f)\n"
     ]
    }
   ],
   "source": [
    "import numpy as np\n",
    "import pandas as pd\n",
    "import scipy.stats as ss\n",
    "import seaborn as sns\n",
    "import matplotlib.pyplot as plt\n",
    "import time\n",
    "\n",
    "from sklearn import preprocessing, model_selection\n",
    "from sklearn.decomposition import PCA\n",
    "from sklearn.model_selection import train_test_split, cross_val_score, RandomizedSearchCV\n",
    "from sklearn.ensemble import RandomForestClassifier\n",
    "from sklearn.linear_model import LogisticRegression\n",
    "from sklearn.metrics import classification_report, confusion_matrix, auc, roc_curve, plot_confusion_matrix, f1_score\n",
    "\n",
    "from xgboost import XGBClassifier\n",
    "\n",
    "from scipy import stats\n",
    "\n",
    "from progressbar import ProgressBar\n",
    "\n",
    "from warnings import simplefilter"
   ]
  },
  {
   "cell_type": "code",
   "execution_count": 2,
   "metadata": {},
   "outputs": [],
   "source": [
    "# Ignore all future warnings (later from sklearn, ignore that line)\n",
    "simplefilter(action='ignore', category=FutureWarning)"
   ]
  },
  {
   "cell_type": "code",
   "execution_count": 3,
   "metadata": {},
   "outputs": [],
   "source": [
    "# Upload of the datasets into pandas dataframes\n",
    "df_lifetime = pd.read_csv(r\"Courier_lifetime_data.csv\", sep=\",\")\n",
    "df_week = pd.read_csv(r\"Courier_weekly_data.csv\", sep=\",\")"
   ]
  },
  {
   "cell_type": "markdown",
   "metadata": {},
   "source": [
    "<a name=\"TITLE1\"></a>\n",
    "## I. TASK 1 : Data Analysis and Data Processing "
   ]
  },
  {
   "cell_type": "markdown",
   "metadata": {},
   "source": [
    "### I. 1. Exploratory Data Analysis <a name=\"subparagraph1.1\"></a>"
   ]
  },
  {
   "cell_type": "markdown",
   "metadata": {},
   "source": [
    "#### a. General informations about the datasets"
   ]
  },
  {
   "cell_type": "code",
   "execution_count": 4,
   "metadata": {},
   "outputs": [
    {
     "name": "stdout",
     "output_type": "stream",
     "text": [
      "___________ Lifetime : __________ \n",
      "\n",
      "\n",
      "Sparsity : \n",
      "\n",
      "<class 'pandas.core.frame.DataFrame'>\n",
      "RangeIndex: 7524 entries, 0 to 7523\n",
      "Data columns (total 3 columns):\n",
      " #   Column     Non-Null Count  Dtype  \n",
      "---  ------     --------------  -----  \n",
      " 0   courier    7524 non-null   int64  \n",
      " 1   feature_1  7524 non-null   object \n",
      " 2   feature_2  6588 non-null   float64\n",
      "dtypes: float64(1), int64(1), object(1)\n",
      "memory usage: 176.5+ KB\n",
      "None \n",
      "\n",
      "\n",
      "\n",
      " Descriptive statistics : \n",
      "\n",
      "              courier    feature_2\n",
      "count    7524.000000  6588.000000\n",
      "mean   518864.440324    26.373862\n",
      "std    286880.574472    22.703621\n",
      "min       208.000000   -61.000000\n",
      "25%    275875.750000    20.000000\n",
      "50%    529366.500000    25.000000\n",
      "75%    803120.500000    32.000000\n",
      "max    964240.000000   954.000000\n",
      "\n",
      "\n",
      "\n",
      "\n",
      "\n",
      " ___________ Weekly : __________ \n",
      "\n",
      "\n",
      "Sparsity : \n",
      "\n",
      "<class 'pandas.core.frame.DataFrame'>\n",
      "RangeIndex: 4117 entries, 0 to 4116\n",
      "Data columns (total 19 columns):\n",
      " #   Column      Non-Null Count  Dtype  \n",
      "---  ------      --------------  -----  \n",
      " 0   courier     4117 non-null   int64  \n",
      " 1   week        4117 non-null   int64  \n",
      " 2   feature_1   4117 non-null   int64  \n",
      " 3   feature_2   4117 non-null   int64  \n",
      " 4   feature_3   4117 non-null   int64  \n",
      " 5   feature_4   4117 non-null   float64\n",
      " 6   feature_5   4117 non-null   float64\n",
      " 7   feature_6   4117 non-null   float64\n",
      " 8   feature_7   4117 non-null   float64\n",
      " 9   feature_8   4117 non-null   float64\n",
      " 10  feature_9   4117 non-null   float64\n",
      " 11  feature_10  4117 non-null   float64\n",
      " 12  feature_11  4117 non-null   int64  \n",
      " 13  feature_12  4117 non-null   float64\n",
      " 14  feature_13  4117 non-null   float64\n",
      " 15  feature_14  4117 non-null   float64\n",
      " 16  feature_15  4117 non-null   float64\n",
      " 17  feature_16  4117 non-null   int64  \n",
      " 18  feature_17  4117 non-null   int64  \n",
      "dtypes: float64(11), int64(8)\n",
      "memory usage: 611.2 KB\n",
      "None \n",
      "\n",
      "\n",
      "\n",
      " Descriptive statistics : \n",
      "\n",
      "              courier         week    feature_1    feature_2    feature_3  \\\n",
      "count    4117.000000  4117.000000  4117.000000  4117.000000  4117.000000   \n",
      "mean   366530.934418     4.910857    -3.702453    44.232208    55.691037   \n",
      "std    128603.611959     3.364852    17.407331    24.007116    31.666550   \n",
      "min      3767.000000     0.000000  -138.000000     1.000000     1.000000   \n",
      "25%    280239.000000     2.000000   -12.000000    26.000000    31.000000   \n",
      "50%    406936.000000     5.000000    -2.000000    41.000000    51.000000   \n",
      "75%    467727.000000     8.000000     6.000000    59.000000    76.000000   \n",
      "max    519341.000000    11.000000    77.000000   169.000000   189.000000   \n",
      "\n",
      "         feature_4    feature_5    feature_6    feature_7     feature_8  \\\n",
      "count  4117.000000  4117.000000  4117.000000  4117.000000   4117.000000   \n",
      "mean      0.068610     0.931390   104.331502     0.059339   3975.807328   \n",
      "std       0.068999     0.068999     8.473348     0.064646   1237.055134   \n",
      "min       0.000000     0.000000    92.857100     0.000000   1136.750000   \n",
      "25%       0.018500     0.901200   100.000000     0.000000   2750.977800   \n",
      "50%       0.054100     0.945900   100.465100     0.043500   4099.425000   \n",
      "75%       0.098800     0.981500   104.766000     0.088200   4774.028200   \n",
      "max       1.000000     1.000000   197.739100     0.666700  12593.900000   \n",
      "\n",
      "         feature_9   feature_10   feature_11   feature_12   feature_13  \\\n",
      "count  4117.000000  4117.000000  4117.000000  4117.000000  4117.000000   \n",
      "mean      0.767527     9.619359    20.266942    20.000994     5.211435   \n",
      "std       0.136458     1.827863    12.460020     3.205479     0.961980   \n",
      "min       0.000000     2.575000     0.000000     5.416667     3.270000   \n",
      "25%       0.693700     8.424751    11.000000    18.168824     4.570099   \n",
      "50%       0.785700     9.497961    19.000000    19.648810     5.072500   \n",
      "75%       0.864200    10.607692    28.000000    21.335395     5.618522   \n",
      "max       1.000000    20.546667    86.000000    66.400000    12.546923   \n",
      "\n",
      "        feature_14   feature_15   feature_16  feature_17  \n",
      "count  4117.000000  4117.000000  4117.000000  4117.00000  \n",
      "mean      0.782381    68.655642     2.255526    12.78941  \n",
      "std       0.164578    18.828885     1.542969    11.69108  \n",
      "min       0.000000     2.957809     1.000000     1.00000  \n",
      "25%       0.739100    57.839947     1.000000     5.00000  \n",
      "50%       0.822200    71.653595     2.000000    10.00000  \n",
      "75%       0.883700    82.180556     3.000000    17.00000  \n",
      "max       1.000000   180.861111    13.000000   195.00000  \n"
     ]
    }
   ],
   "source": [
    "# Sparsity measure and Descriptive statistics: \n",
    "\n",
    "print('___________ Lifetime : __________',2*'\\n')\n",
    "print('Sparsity :','\\n')\n",
    "print(df_lifetime.info(),4*'\\n','Descriptive statistics :',2*'\\n',df_lifetime.describe())\n",
    "\n",
    "print(5*'\\n','___________ Weekly : __________',2*'\\n')\n",
    "print('Sparsity :','\\n')\n",
    "print(df_week.info(),4*'\\n','Descriptive statistics :',2*'\\n',df_week.describe())"
   ]
  },
  {
   "cell_type": "markdown",
   "metadata": {},
   "source": [
    "#### b. Weekly dataframe analysis\n",
    "<br>\n"
   ]
  },
  {
   "cell_type": "markdown",
   "metadata": {},
   "source": [
    "Before keep going on the Data Processing of the weekly data frame, let's have a quick look at the correlation between the different features and the target and the correlation matrix (giving the pearson correlation between the different features) and see if all of the features bring a significant amount of information :"
   ]
  },
  {
   "cell_type": "markdown",
   "metadata": {},
   "source": [
    "#### - Correlation between features and target :"
   ]
  },
  {
   "cell_type": "code",
   "execution_count": 5,
   "metadata": {},
   "outputs": [],
   "source": [
    "# creation of a dataframe which contains the information of whether a courier worked or not on every single week:\n",
    "\n",
    "# creation of the columns names:\n",
    "col_name = ['courier']\n",
    "for j in range(12):\n",
    "    col_name.append('w_'+str(j))\n",
    "# creation of the dataframe df_worked_week:    \n",
    "df_worked_week = pd.DataFrame([],columns = col_name) \n",
    "df_worked_week.courier = df_week.courier.unique()\n",
    "\n",
    "\n",
    "# fill of the 'worked on week i' features:\n",
    "for i, courier in enumerate(df_worked_week.courier):\n",
    "    for w in range(12):\n",
    "        if df_week[(df_week.courier == courier) & (df_week.week == w)].empty : #if the glover courier didn't work on week w\n",
    "            df_worked_week.loc[i:i+1,'w_' + str(w)] = 0\n",
    "        else:    #if the glover courier worked on week w\n",
    "            df_worked_week.loc[i:i+1,'w_' + str(w)] = 1\n",
    "\n",
    "            \n",
    "# add of the target to the data frame:\n",
    "df_worked_week ['target'] = np.where((df_worked_week['w_9'] == 0) \n",
    "                             & (df_worked_week['w_10'] == 0) \n",
    "                             & (df_worked_week['w_11'] == 0), 1, 0)\n"
   ]
  },
  {
   "cell_type": "code",
   "execution_count": 6,
   "metadata": {},
   "outputs": [
    {
     "data": {
      "text/html": [
       "<div>\n",
       "<style scoped>\n",
       "    .dataframe tbody tr th:only-of-type {\n",
       "        vertical-align: middle;\n",
       "    }\n",
       "\n",
       "    .dataframe tbody tr th {\n",
       "        vertical-align: top;\n",
       "    }\n",
       "\n",
       "    .dataframe thead th {\n",
       "        text-align: right;\n",
       "    }\n",
       "</style>\n",
       "<table border=\"1\" class=\"dataframe\">\n",
       "  <thead>\n",
       "    <tr style=\"text-align: right;\">\n",
       "      <th></th>\n",
       "      <th>courier</th>\n",
       "      <th>w_0</th>\n",
       "      <th>w_1</th>\n",
       "      <th>w_2</th>\n",
       "      <th>w_3</th>\n",
       "      <th>w_4</th>\n",
       "      <th>w_5</th>\n",
       "      <th>w_6</th>\n",
       "      <th>w_7</th>\n",
       "      <th>w_8</th>\n",
       "      <th>w_9</th>\n",
       "      <th>w_10</th>\n",
       "      <th>w_11</th>\n",
       "      <th>target</th>\n",
       "    </tr>\n",
       "  </thead>\n",
       "  <tbody>\n",
       "    <tr>\n",
       "      <th>0</th>\n",
       "      <td>3767</td>\n",
       "      <td>0</td>\n",
       "      <td>0</td>\n",
       "      <td>1</td>\n",
       "      <td>0</td>\n",
       "      <td>1</td>\n",
       "      <td>1</td>\n",
       "      <td>1</td>\n",
       "      <td>0</td>\n",
       "      <td>0</td>\n",
       "      <td>0</td>\n",
       "      <td>0</td>\n",
       "      <td>0</td>\n",
       "      <td>1</td>\n",
       "    </tr>\n",
       "    <tr>\n",
       "      <th>1</th>\n",
       "      <td>6282</td>\n",
       "      <td>0</td>\n",
       "      <td>0</td>\n",
       "      <td>1</td>\n",
       "      <td>1</td>\n",
       "      <td>1</td>\n",
       "      <td>1</td>\n",
       "      <td>1</td>\n",
       "      <td>1</td>\n",
       "      <td>0</td>\n",
       "      <td>1</td>\n",
       "      <td>1</td>\n",
       "      <td>1</td>\n",
       "      <td>0</td>\n",
       "    </tr>\n",
       "    <tr>\n",
       "      <th>2</th>\n",
       "      <td>10622</td>\n",
       "      <td>1</td>\n",
       "      <td>1</td>\n",
       "      <td>0</td>\n",
       "      <td>0</td>\n",
       "      <td>0</td>\n",
       "      <td>0</td>\n",
       "      <td>0</td>\n",
       "      <td>0</td>\n",
       "      <td>0</td>\n",
       "      <td>0</td>\n",
       "      <td>0</td>\n",
       "      <td>0</td>\n",
       "      <td>1</td>\n",
       "    </tr>\n",
       "    <tr>\n",
       "      <th>3</th>\n",
       "      <td>13096</td>\n",
       "      <td>0</td>\n",
       "      <td>0</td>\n",
       "      <td>0</td>\n",
       "      <td>0</td>\n",
       "      <td>0</td>\n",
       "      <td>1</td>\n",
       "      <td>1</td>\n",
       "      <td>0</td>\n",
       "      <td>1</td>\n",
       "      <td>1</td>\n",
       "      <td>1</td>\n",
       "      <td>1</td>\n",
       "      <td>0</td>\n",
       "    </tr>\n",
       "    <tr>\n",
       "      <th>4</th>\n",
       "      <td>14261</td>\n",
       "      <td>1</td>\n",
       "      <td>1</td>\n",
       "      <td>1</td>\n",
       "      <td>1</td>\n",
       "      <td>1</td>\n",
       "      <td>1</td>\n",
       "      <td>1</td>\n",
       "      <td>1</td>\n",
       "      <td>0</td>\n",
       "      <td>0</td>\n",
       "      <td>0</td>\n",
       "      <td>0</td>\n",
       "      <td>1</td>\n",
       "    </tr>\n",
       "  </tbody>\n",
       "</table>\n",
       "</div>"
      ],
      "text/plain": [
       "   courier w_0 w_1 w_2 w_3 w_4 w_5 w_6 w_7 w_8 w_9 w_10 w_11  target\n",
       "0     3767   0   0   1   0   1   1   1   0   0   0    0    0       1\n",
       "1     6282   0   0   1   1   1   1   1   1   0   1    1    1       0\n",
       "2    10622   1   1   0   0   0   0   0   0   0   0    0    0       1\n",
       "3    13096   0   0   0   0   0   1   1   0   1   1    1    1       0\n",
       "4    14261   1   1   1   1   1   1   1   1   0   0    0    0       1"
      ]
     },
     "execution_count": 6,
     "metadata": {},
     "output_type": "execute_result"
    }
   ],
   "source": [
    "df_worked_week.head()"
   ]
  },
  {
   "cell_type": "code",
   "execution_count": 7,
   "metadata": {},
   "outputs": [
    {
     "data": {
      "text/plain": [
       "feature_3    -0.349718\n",
       "feature_11   -0.295291\n",
       "feature_2    -0.294234\n",
       "feature_16   -0.198647\n",
       "feature_14   -0.174546\n",
       "feature_9    -0.114950\n",
       "feature_1    -0.101587\n",
       "feature_17   -0.084933\n",
       "feature_15   -0.065347\n",
       "feature_5    -0.034597\n",
       "feature_6    -0.031046\n",
       "feature_7    -0.013454\n",
       "feature_8     0.030741\n",
       "feature_4     0.034596\n",
       "feature_12    0.081295\n",
       "feature_10    0.096513\n",
       "feature_13    0.134942\n",
       "target        1.000000\n",
       "Name: target, dtype: float64"
      ]
     },
     "execution_count": 7,
     "metadata": {},
     "output_type": "execute_result"
    }
   ],
   "source": [
    "# Calculate of the correlations between the features and the target and sort of thoses correlations\n",
    "\n",
    "df_week.merge(df_worked_week[['courier','target']], left_on='courier', right_on='courier', how='left').iloc[:,2:].corr()['target'].sort_values()"
   ]
  },
  {
   "cell_type": "markdown",
   "metadata": {},
   "source": [
    "We can notice that the __features 3, 11 and 2 are the most correlated to the churn__. The smaller those features are, the higher the probabilty of churning is."
   ]
  },
  {
   "cell_type": "markdown",
   "metadata": {},
   "source": [
    "#### - Pearson (bivariate) correlation analysis: "
   ]
  },
  {
   "cell_type": "code",
   "execution_count": 8,
   "metadata": {
    "scrolled": false
   },
   "outputs": [
    {
     "data": {
      "image/png": "[encoded data removed]",
      "text/plain": [
       "<Figure size 1152x864 with 2 Axes>"
      ]
     },
     "metadata": {
      "needs_background": "light"
     },
     "output_type": "display_data"
    }
   ],
   "source": [
    "df_week_corr = df_week.iloc[:,1:].corr()\n",
    "plt.figure(figsize=(16, 12))\n",
    "sns.heatmap(df_week_corr, \n",
    "            xticklabels = df_week_corr.columns.values,\n",
    "            yticklabels = df_week_corr.columns.values,\n",
    "            annot = False);"
   ]
  },
  {
   "cell_type": "code",
   "execution_count": 9,
   "metadata": {},
   "outputs": [
    {
     "data": {
      "text/plain": [
       "5.0"
      ]
     },
     "execution_count": 9,
     "metadata": {},
     "output_type": "execute_result"
    }
   ],
   "source": [
    "# number of couple of features with a correlation higher than 0.7\n",
    "\n",
    "(sum(sum(np.array(abs(df_week_corr)>0.7)))-18)/2"
   ]
  },
  {
   "cell_type": "markdown",
   "metadata": {},
   "source": [
    "We can notice that some features are extremely correlated. There is 5 couple of features with an absolute correlation higher than 0.7. Especially feature_4 and feature_5:"
   ]
  },
  {
   "cell_type": "code",
   "execution_count": 10,
   "metadata": {},
   "outputs": [
    {
     "data": {
      "image/png": "[encoded data removed]",
      "text/plain": [
       "<Figure size 432x288 with 1 Axes>"
      ]
     },
     "metadata": {
      "needs_background": "light"
     },
     "output_type": "display_data"
    }
   ],
   "source": [
    "plt.scatter(df_week.feature_4,df_week.feature_5)\n",
    "plt.ylabel('feature_5')\n",
    "plt.xlabel('feature_4')\n",
    "plt.title('scatter plot of feature_4 and feature_5')\n",
    "plt.show()"
   ]
  },
  {
   "cell_type": "markdown",
   "metadata": {},
   "source": [
    "Thus, considering the Occam's razor, it might be better do get rid of some of the unnecessary features. <br>\n",
    "Instead of just delete certain features, a better solution could be to use a __Principal Component Analysis (PCA)__. <br> We will thus process a PCA in the next step : ___DATA MUNGING___"
   ]
  },
  {
   "cell_type": "markdown",
   "metadata": {},
   "source": [
    "#### c. Lifetime <br>\n"
   ]
  },
  {
   "cell_type": "markdown",
   "metadata": {},
   "source": [
    "#### - Correlation between features and target :"
   ]
  },
  {
   "cell_type": "code",
   "execution_count": 11,
   "metadata": {},
   "outputs": [
    {
     "name": "stdout",
     "output_type": "stream",
     "text": [
      "The Cramer's V between lifetime feature_1 and the target (churn) is : 0.1647640866492717\n"
     ]
    }
   ],
   "source": [
    "# data frame used to observe the correlations between the lifetime features and the target\n",
    "df_correlation_lifetime_target = df_lifetime.dropna().merge(df_worked_week[['courier','target']], left_on='courier', right_on='courier', how='inner')\n",
    "\n",
    "def cramers_v(x, y):\n",
    "    '''Because feature_1 is a categorical variable, we'll check the Cramer's V \n",
    "    '''\n",
    "    confusion_matrix = pd.crosstab(x,y)\n",
    "    chi2 = ss.chi2_contingency(confusion_matrix)[0]\n",
    "    n = confusion_matrix.sum().sum()\n",
    "    phi2 = chi2/n\n",
    "    r,k = confusion_matrix.shape\n",
    "    phi2corr = max(0, phi2-((k-1)*(r-1))/(n-1))\n",
    "    rcorr = r-((r-1)**2)/(n-1)\n",
    "    kcorr = k-((k-1)**2)/(n-1)\n",
    "    return np.sqrt(phi2corr/min((kcorr-1),(rcorr-1)))\n",
    "\n",
    "cramers = cramers_v(df_correlation_lifetime_target['feature_1'],df_correlation_lifetime_target['target'])\n",
    "print(\"The Cramer's V between lifetime feature_1 and the target (churn) is : \" + str(cramers))"
   ]
  },
  {
   "cell_type": "code",
   "execution_count": 12,
   "metadata": {
    "scrolled": true
   },
   "outputs": [
    {
     "name": "stdout",
     "output_type": "stream",
     "text": [
      "The correlation between lifetime feature_2 and the target (churn) is : -0.18074695799268536\n"
     ]
    }
   ],
   "source": [
    "corr_feature_2_target = df_lifetime.dropna().merge(df_worked_week[['courier','target']], left_on='courier', right_on='courier', how='inner').iloc[:,1:].corr()['target']['feature_2']\n",
    "print('The correlation between lifetime feature_2 and the target (churn) is : '+ str(corr_feature_2_target))"
   ]
  },
  {
   "cell_type": "markdown",
   "metadata": {},
   "source": [
    "### I. 2. Data Munging <a name=\"subparagraph1.2\"></a>"
   ]
  },
  {
   "cell_type": "markdown",
   "metadata": {},
   "source": [
    "#### a. Lifetime"
   ]
  },
  {
   "cell_type": "markdown",
   "metadata": {},
   "source": [
    "#### Treat missing values \n"
   ]
  },
  {
   "cell_type": "markdown",
   "metadata": {},
   "source": [
    "From the Data Analysis part, we know there is 12.4% sparsity on feature_2. To deal with this sparsity there are several possible methods: <br>\n",
    "- Delete the couriers with NaN for the feature_2. (We don't want to do it as we would loose informations)\n",
    "- Replace the missing value by the mean (or the median) of the feature\n",
    "- Replace the missing value by a value wich takes into account the other features (here feature_1)"
   ]
  },
  {
   "cell_type": "markdown",
   "metadata": {},
   "source": [
    "In order to know which strategy is the most adapted to our data we should take a look at the distribution of the feature_2 for the 4 categories of feature_1 (a, b, c, d)."
   ]
  },
  {
   "cell_type": "code",
   "execution_count": 13,
   "metadata": {},
   "outputs": [
    {
     "name": "stdout",
     "output_type": "stream",
     "text": [
      "mean for categorie  a  with outliers:  30.709662921348315\n",
      "mean for categorie  a  without outliers:  29.93159315931593 \n",
      "\n",
      "mean for categorie  c  with outliers:  20.333333333333332\n",
      "mean for categorie  c  without outliers:  20.333333333333332 \n",
      "\n",
      "mean for categorie  d  with outliers:  32.305882352941175\n",
      "mean for categorie  d  without outliers:  32.305882352941175 \n",
      "\n",
      "mean for categorie  b  with outliers:  23.306550665301945\n",
      "mean for categorie  b  without outliers:  23.07678525723061 \n",
      "\n"
     ]
    },
    {
     "data": {
      "image/png": "[encoded data removed]",
      "text/plain": [
       "<Figure size 432x288 with 1 Axes>"
      ]
     },
     "metadata": {
      "needs_background": "light"
     },
     "output_type": "display_data"
    }
   ],
   "source": [
    "# Distribution :\n",
    "\n",
    "# Creation of the dataframes corresponding to the categories:\n",
    "df_lifetime_cat = dict()\n",
    "mean_cat = dict()\n",
    "for i, cat in enumerate(df_lifetime.feature_1.unique()):\n",
    "    df_lifetime_cat[cat] = np.array(df_lifetime[(df_lifetime.feature_1 == cat) & (df_lifetime.feature_2.notna())]['feature_2'])\n",
    "    print('mean for categorie ', cat, ' with outliers: ', np.mean(df_lifetime_cat[cat]))\n",
    "    \n",
    "    #remove of the outliers before displaying the distribution\n",
    "    #which are more or less the values higher than a 150 or smaller than -10 \n",
    "    df_lifetime_cat[cat] = df_lifetime_cat[cat][(np.array(df_lifetime_cat[cat]) < 150) & (np.array(df_lifetime_cat[cat]) > -10)] \n",
    "    print('mean for categorie ', cat, ' without outliers: ', np.mean(df_lifetime_cat[cat]),'\\n')\n",
    "    mean_cat[cat] = np.mean(df_lifetime_cat[cat])\n",
    "    \n",
    "\n",
    "    sns.kdeplot(df_lifetime_cat[cat],label = cat) #display of the distribution without the outliers\n",
    " \n",
    "    "
   ]
  },
  {
   "cell_type": "code",
   "execution_count": 14,
   "metadata": {},
   "outputs": [
    {
     "data": {
      "text/plain": [
       "<matplotlib.axes._subplots.AxesSubplot at 0x1c224d0c10>"
      ]
     },
     "execution_count": 14,
     "metadata": {},
     "output_type": "execute_result"
    },
    {
     "data": {
      "image/png": "[encoded data removed]",
      "text/plain": [
       "<Figure size 432x288 with 1 Axes>"
      ]
     },
     "metadata": {
      "needs_background": "light"
     },
     "output_type": "display_data"
    }
   ],
   "source": [
    "# BoxPlot without the outliers\n",
    "\n",
    "df_lifetime_plot = df_lifetime[df_lifetime.feature_2.notna()]\n",
    "sns.boxplot(y = 'feature_2', x = 'feature_1', \n",
    "                 data = df_lifetime_plot, \n",
    "                 palette=\"colorblind\", showfliers = False) "
   ]
  },
  {
   "cell_type": "markdown",
   "metadata": {},
   "source": [
    "Before displaying the boxplots without the option 'showfliers = False'(with the outliers), I have noticed that there are outliers \n",
    "for categories a and b. Those outliers modify a bit the values of the mean. However, we can notice that the median is quit the same. <br>\n",
    "I have eventually decided to __replace the NaN by the average value of the feature_2 without outliers for the corresponding \n",
    "category for feature_1__.\n",
    "(Another point we could notice is that for every categories of lifetime feature_1, the __feature_2 distribution is bimodal__ but we do not have enough informations to know in which mode a courier is, a clustering analysis or the add of a new lifetime feature would have been interesting)."
   ]
  },
  {
   "cell_type": "code",
   "execution_count": 15,
   "metadata": {},
   "outputs": [],
   "source": [
    "df_lifetime['feature_2'] = df_lifetime['feature_2'].fillna(df_lifetime.groupby(\"feature_1\")[\"feature_2\"].transform(\"mean\"))"
   ]
  },
  {
   "cell_type": "code",
   "execution_count": 16,
   "metadata": {
    "scrolled": true
   },
   "outputs": [
    {
     "name": "stdout",
     "output_type": "stream",
     "text": [
      "___________ Lifetime : __________ \n",
      "\n",
      "\n",
      "Sparsity : \n",
      "\n",
      "<class 'pandas.core.frame.DataFrame'>\n",
      "RangeIndex: 7524 entries, 0 to 7523\n",
      "Data columns (total 3 columns):\n",
      " #   Column     Non-Null Count  Dtype  \n",
      "---  ------     --------------  -----  \n",
      " 0   courier    7524 non-null   int64  \n",
      " 1   feature_1  7524 non-null   object \n",
      " 2   feature_2  7524 non-null   float64\n",
      "dtypes: float64(1), int64(1), object(1)\n",
      "memory usage: 176.5+ KB\n",
      "None \n",
      "\n",
      "\n",
      "\n",
      " Descriptive statistics : \n",
      "\n",
      "              courier    feature_2\n",
      "count    7524.000000  7524.000000\n",
      "mean   518864.440324    26.307108\n",
      "std    286880.574472    21.288345\n",
      "min       208.000000   -61.000000\n",
      "25%    275875.750000    21.000000\n",
      "50%    529366.500000    25.000000\n",
      "75%    803120.500000    31.000000\n",
      "max    964240.000000   954.000000\n"
     ]
    }
   ],
   "source": [
    "print('___________ Lifetime : __________',2*'\\n')\n",
    "print('Sparsity :','\\n')\n",
    "print(df_lifetime.info(),4*'\\n','Descriptive statistics :',2*'\\n',df_lifetime.describe())"
   ]
  },
  {
   "cell_type": "markdown",
   "metadata": {},
   "source": [
    "The NaN replacement went well, there is no more null values."
   ]
  },
  {
   "cell_type": "markdown",
   "metadata": {},
   "source": [
    "#### b. weekly"
   ]
  },
  {
   "cell_type": "markdown",
   "metadata": {},
   "source": [
    "#### Data Normalization and PCA"
   ]
  },
  {
   "cell_type": "markdown",
   "metadata": {},
   "source": [
    "Before considering a PCA, I'll proceed to the ___Data Normalization___ of df_week:"
   ]
  },
  {
   "cell_type": "code",
   "execution_count": 17,
   "metadata": {},
   "outputs": [],
   "source": [
    "'''There is no missing values in the weekly dataframe so for the next steps\n",
    "we can already normalize the features'''\n",
    "# normalization of the features \n",
    "\n",
    "val = df_week.iloc[:,2:].values #returns a numpy array\n",
    "min_max_scaler = preprocessing.MinMaxScaler()\n",
    "val_scaled = min_max_scaler.fit_transform(val)\n",
    "df_week.iloc[:,2:] = pd.DataFrame(val_scaled, columns = df_week.iloc[:,2:].columns)"
   ]
  },
  {
   "cell_type": "code",
   "execution_count": 18,
   "metadata": {
    "scrolled": true
   },
   "outputs": [
    {
     "data": {
      "text/html": [
       "<div>\n",
       "<style scoped>\n",
       "    .dataframe tbody tr th:only-of-type {\n",
       "        vertical-align: middle;\n",
       "    }\n",
       "\n",
       "    .dataframe tbody tr th {\n",
       "        vertical-align: top;\n",
       "    }\n",
       "\n",
       "    .dataframe thead th {\n",
       "        text-align: right;\n",
       "    }\n",
       "</style>\n",
       "<table border=\"1\" class=\"dataframe\">\n",
       "  <thead>\n",
       "    <tr style=\"text-align: right;\">\n",
       "      <th></th>\n",
       "      <th>courier</th>\n",
       "      <th>week</th>\n",
       "      <th>feature_1</th>\n",
       "      <th>feature_2</th>\n",
       "      <th>feature_3</th>\n",
       "      <th>feature_4</th>\n",
       "      <th>feature_5</th>\n",
       "      <th>feature_6</th>\n",
       "      <th>feature_7</th>\n",
       "      <th>feature_8</th>\n",
       "      <th>feature_9</th>\n",
       "      <th>feature_10</th>\n",
       "      <th>feature_11</th>\n",
       "      <th>feature_12</th>\n",
       "      <th>feature_13</th>\n",
       "      <th>feature_14</th>\n",
       "      <th>feature_15</th>\n",
       "      <th>feature_16</th>\n",
       "      <th>feature_17</th>\n",
       "    </tr>\n",
       "  </thead>\n",
       "  <tbody>\n",
       "    <tr>\n",
       "      <th>count</th>\n",
       "      <td>4117.000000</td>\n",
       "      <td>4117.000000</td>\n",
       "      <td>4117.000000</td>\n",
       "      <td>4117.000000</td>\n",
       "      <td>4117.000000</td>\n",
       "      <td>4117.000000</td>\n",
       "      <td>4117.000000</td>\n",
       "      <td>4117.000000</td>\n",
       "      <td>4117.000000</td>\n",
       "      <td>4117.000000</td>\n",
       "      <td>4117.000000</td>\n",
       "      <td>4117.000000</td>\n",
       "      <td>4117.000000</td>\n",
       "      <td>4117.000000</td>\n",
       "      <td>4117.000000</td>\n",
       "      <td>4117.000000</td>\n",
       "      <td>4117.000000</td>\n",
       "      <td>4117.000000</td>\n",
       "      <td>4117.000000</td>\n",
       "    </tr>\n",
       "    <tr>\n",
       "      <th>mean</th>\n",
       "      <td>366530.934418</td>\n",
       "      <td>4.910857</td>\n",
       "      <td>0.624640</td>\n",
       "      <td>0.257335</td>\n",
       "      <td>0.290910</td>\n",
       "      <td>0.068610</td>\n",
       "      <td>0.931390</td>\n",
       "      <td>0.109403</td>\n",
       "      <td>0.089004</td>\n",
       "      <td>0.247798</td>\n",
       "      <td>0.767527</td>\n",
       "      <td>0.391970</td>\n",
       "      <td>0.235662</td>\n",
       "      <td>0.239153</td>\n",
       "      <td>0.209276</td>\n",
       "      <td>0.782381</td>\n",
       "      <td>0.369290</td>\n",
       "      <td>0.104627</td>\n",
       "      <td>0.060770</td>\n",
       "    </tr>\n",
       "    <tr>\n",
       "      <th>std</th>\n",
       "      <td>128603.611959</td>\n",
       "      <td>3.364852</td>\n",
       "      <td>0.080964</td>\n",
       "      <td>0.142899</td>\n",
       "      <td>0.168439</td>\n",
       "      <td>0.068999</td>\n",
       "      <td>0.068999</td>\n",
       "      <td>0.080789</td>\n",
       "      <td>0.096964</td>\n",
       "      <td>0.107972</td>\n",
       "      <td>0.136458</td>\n",
       "      <td>0.101708</td>\n",
       "      <td>0.144884</td>\n",
       "      <td>0.052563</td>\n",
       "      <td>0.103696</td>\n",
       "      <td>0.164578</td>\n",
       "      <td>0.105838</td>\n",
       "      <td>0.128581</td>\n",
       "      <td>0.060263</td>\n",
       "    </tr>\n",
       "    <tr>\n",
       "      <th>min</th>\n",
       "      <td>3767.000000</td>\n",
       "      <td>0.000000</td>\n",
       "      <td>0.000000</td>\n",
       "      <td>0.000000</td>\n",
       "      <td>0.000000</td>\n",
       "      <td>0.000000</td>\n",
       "      <td>0.000000</td>\n",
       "      <td>0.000000</td>\n",
       "      <td>0.000000</td>\n",
       "      <td>0.000000</td>\n",
       "      <td>0.000000</td>\n",
       "      <td>0.000000</td>\n",
       "      <td>0.000000</td>\n",
       "      <td>0.000000</td>\n",
       "      <td>0.000000</td>\n",
       "      <td>0.000000</td>\n",
       "      <td>0.000000</td>\n",
       "      <td>0.000000</td>\n",
       "      <td>0.000000</td>\n",
       "    </tr>\n",
       "    <tr>\n",
       "      <th>25%</th>\n",
       "      <td>280239.000000</td>\n",
       "      <td>2.000000</td>\n",
       "      <td>0.586047</td>\n",
       "      <td>0.148810</td>\n",
       "      <td>0.159574</td>\n",
       "      <td>0.018500</td>\n",
       "      <td>0.901200</td>\n",
       "      <td>0.068104</td>\n",
       "      <td>0.000000</td>\n",
       "      <td>0.140893</td>\n",
       "      <td>0.693700</td>\n",
       "      <td>0.325499</td>\n",
       "      <td>0.127907</td>\n",
       "      <td>0.209109</td>\n",
       "      <td>0.140143</td>\n",
       "      <td>0.739100</td>\n",
       "      <td>0.308494</td>\n",
       "      <td>0.000000</td>\n",
       "      <td>0.020619</td>\n",
       "    </tr>\n",
       "    <tr>\n",
       "      <th>50%</th>\n",
       "      <td>406936.000000</td>\n",
       "      <td>5.000000</td>\n",
       "      <td>0.632558</td>\n",
       "      <td>0.238095</td>\n",
       "      <td>0.265957</td>\n",
       "      <td>0.054100</td>\n",
       "      <td>0.945900</td>\n",
       "      <td>0.072539</td>\n",
       "      <td>0.065247</td>\n",
       "      <td>0.258587</td>\n",
       "      <td>0.785700</td>\n",
       "      <td>0.385215</td>\n",
       "      <td>0.220930</td>\n",
       "      <td>0.233378</td>\n",
       "      <td>0.194299</td>\n",
       "      <td>0.822200</td>\n",
       "      <td>0.386141</td>\n",
       "      <td>0.083333</td>\n",
       "      <td>0.046392</td>\n",
       "    </tr>\n",
       "    <tr>\n",
       "      <th>75%</th>\n",
       "      <td>467727.000000</td>\n",
       "      <td>8.000000</td>\n",
       "      <td>0.669767</td>\n",
       "      <td>0.345238</td>\n",
       "      <td>0.398936</td>\n",
       "      <td>0.098800</td>\n",
       "      <td>0.981500</td>\n",
       "      <td>0.113546</td>\n",
       "      <td>0.132293</td>\n",
       "      <td>0.317468</td>\n",
       "      <td>0.864200</td>\n",
       "      <td>0.446964</td>\n",
       "      <td>0.325581</td>\n",
       "      <td>0.261034</td>\n",
       "      <td>0.253157</td>\n",
       "      <td>0.883700</td>\n",
       "      <td>0.445314</td>\n",
       "      <td>0.166667</td>\n",
       "      <td>0.082474</td>\n",
       "    </tr>\n",
       "    <tr>\n",
       "      <th>max</th>\n",
       "      <td>519341.000000</td>\n",
       "      <td>11.000000</td>\n",
       "      <td>1.000000</td>\n",
       "      <td>1.000000</td>\n",
       "      <td>1.000000</td>\n",
       "      <td>1.000000</td>\n",
       "      <td>1.000000</td>\n",
       "      <td>1.000000</td>\n",
       "      <td>1.000000</td>\n",
       "      <td>1.000000</td>\n",
       "      <td>1.000000</td>\n",
       "      <td>1.000000</td>\n",
       "      <td>1.000000</td>\n",
       "      <td>1.000000</td>\n",
       "      <td>1.000000</td>\n",
       "      <td>1.000000</td>\n",
       "      <td>1.000000</td>\n",
       "      <td>1.000000</td>\n",
       "      <td>1.000000</td>\n",
       "    </tr>\n",
       "  </tbody>\n",
       "</table>\n",
       "</div>"
      ],
      "text/plain": [
       "             courier         week    feature_1    feature_2    feature_3  \\\n",
       "count    4117.000000  4117.000000  4117.000000  4117.000000  4117.000000   \n",
       "mean   366530.934418     4.910857     0.624640     0.257335     0.290910   \n",
       "std    128603.611959     3.364852     0.080964     0.142899     0.168439   \n",
       "min      3767.000000     0.000000     0.000000     0.000000     0.000000   \n",
       "25%    280239.000000     2.000000     0.586047     0.148810     0.159574   \n",
       "50%    406936.000000     5.000000     0.632558     0.238095     0.265957   \n",
       "75%    467727.000000     8.000000     0.669767     0.345238     0.398936   \n",
       "max    519341.000000    11.000000     1.000000     1.000000     1.000000   \n",
       "\n",
       "         feature_4    feature_5    feature_6    feature_7    feature_8  \\\n",
       "count  4117.000000  4117.000000  4117.000000  4117.000000  4117.000000   \n",
       "mean      0.068610     0.931390     0.109403     0.089004     0.247798   \n",
       "std       0.068999     0.068999     0.080789     0.096964     0.107972   \n",
       "min       0.000000     0.000000     0.000000     0.000000     0.000000   \n",
       "25%       0.018500     0.901200     0.068104     0.000000     0.140893   \n",
       "50%       0.054100     0.945900     0.072539     0.065247     0.258587   \n",
       "75%       0.098800     0.981500     0.113546     0.132293     0.317468   \n",
       "max       1.000000     1.000000     1.000000     1.000000     1.000000   \n",
       "\n",
       "         feature_9   feature_10   feature_11   feature_12   feature_13  \\\n",
       "count  4117.000000  4117.000000  4117.000000  4117.000000  4117.000000   \n",
       "mean      0.767527     0.391970     0.235662     0.239153     0.209276   \n",
       "std       0.136458     0.101708     0.144884     0.052563     0.103696   \n",
       "min       0.000000     0.000000     0.000000     0.000000     0.000000   \n",
       "25%       0.693700     0.325499     0.127907     0.209109     0.140143   \n",
       "50%       0.785700     0.385215     0.220930     0.233378     0.194299   \n",
       "75%       0.864200     0.446964     0.325581     0.261034     0.253157   \n",
       "max       1.000000     1.000000     1.000000     1.000000     1.000000   \n",
       "\n",
       "        feature_14   feature_15   feature_16   feature_17  \n",
       "count  4117.000000  4117.000000  4117.000000  4117.000000  \n",
       "mean      0.782381     0.369290     0.104627     0.060770  \n",
       "std       0.164578     0.105838     0.128581     0.060263  \n",
       "min       0.000000     0.000000     0.000000     0.000000  \n",
       "25%       0.739100     0.308494     0.000000     0.020619  \n",
       "50%       0.822200     0.386141     0.083333     0.046392  \n",
       "75%       0.883700     0.445314     0.166667     0.082474  \n",
       "max       1.000000     1.000000     1.000000     1.000000  "
      ]
     },
     "execution_count": 18,
     "metadata": {},
     "output_type": "execute_result"
    }
   ],
   "source": [
    "df_week.describe()"
   ]
  },
  {
   "cell_type": "markdown",
   "metadata": {},
   "source": [
    "### PCA"
   ]
  },
  {
   "cell_type": "code",
   "execution_count": 19,
   "metadata": {},
   "outputs": [],
   "source": [
    "#PCA\n",
    "\n",
    "pca = PCA(n_components=17)\n",
    "principalComponents = pca.fit_transform(df_week.iloc[:,2:])\n",
    "principalDf = pd.DataFrame(data = principalComponents)"
   ]
  },
  {
   "cell_type": "code",
   "execution_count": 20,
   "metadata": {},
   "outputs": [
    {
     "data": {
      "image/png": "[encoded data removed]",
      "text/plain": [
       "<Figure size 432x288 with 1 Axes>"
      ]
     },
     "metadata": {
      "needs_background": "light"
     },
     "output_type": "display_data"
    }
   ],
   "source": [
    "y = pca.explained_variance_ratio_\n",
    "z = range(len(pca.explained_variance_ratio_))\n",
    "n = []\n",
    "for i in range(17):\n",
    "        n.append('ev'+str(i+1))\n",
    "\n",
    "fig, ax = plt.subplots()\n",
    "ax.scatter(z, y)\n",
    "\n",
    "for i, txt in enumerate(n):\n",
    "    ax.annotate(txt, (z[i], y[i]))\n",
    "\n",
    "plt.ylabel('Eigen Value')\n",
    "plt.title('Eigen Value sorted')\n",
    "plt.show()"
   ]
  },
  {
   "cell_type": "code",
   "execution_count": 21,
   "metadata": {},
   "outputs": [
    {
     "name": "stdout",
     "output_type": "stream",
     "text": [
      "[0.3188368140166495, 0.543891372597497, 0.6253135469682839, 0.6927439120901483, 0.7532553023071624, 0.8060577981834293, 0.8489136635760203, 0.8896697354253689, 0.919434321237872, 0.944969213953883, 0.960996689775908, 0.9722251991689055, 0.9825276070841, 0.9906450617326364, 0.9968904485331967, 0.9999999997929208, 0.9999999999999999]\n"
     ]
    },
    {
     "data": {
      "image/png": "[encoded data removed]",
      "text/plain": [
       "<Figure size 432x288 with 1 Axes>"
      ]
     },
     "metadata": {
      "needs_background": "light"
     },
     "output_type": "display_data"
    }
   ],
   "source": [
    "sum_var = [0]\n",
    "for i in range(17):\n",
    "    sum_var.append(sum_var[-1]+y[i])\n",
    "sum_var = sum_var[1:]\n",
    "\n",
    "z = range(len(pca.explained_variance_ratio_))\n",
    "n = []\n",
    "for i in range(17):\n",
    "        n.append('i_'+str(i+1))\n",
    "\n",
    "fig, ax = plt.subplots()\n",
    "ax.scatter(z, sum_var)\n",
    "\n",
    "for i, txt in enumerate(n):\n",
    "    ax.annotate(txt, (z[i], sum_var[i]))\n",
    "print(sum_var)\n",
    "\n",
    "plt.ylabel('Total of the variance explained')\n",
    "plt.xlabel('Number of eigen vectors selected')\n",
    "plt.title('Proportion of the variance explained as a function the number of eigen vectors chosen')\n",
    "plt.show()"
   ]
  },
  {
   "cell_type": "markdown",
   "metadata": {},
   "source": [
    "__Results of the PCA :__ <br>\n",
    "We can notice that the variance explained increase quickly and then slows down from around the 11'th eigen vector. <br>\n",
    "We could then keep only the eigen vectors that represents the most of the variance. The first 10 eigen vectors bring most of the explained variance (96%). <br>\n",
    "Thus, I decide to keep only those 10 eigen vectors. \n"
   ]
  },
  {
   "cell_type": "code",
   "execution_count": 22,
   "metadata": {
    "scrolled": true
   },
   "outputs": [
    {
     "data": {
      "text/html": [
       "<div>\n",
       "<style scoped>\n",
       "    .dataframe tbody tr th:only-of-type {\n",
       "        vertical-align: middle;\n",
       "    }\n",
       "\n",
       "    .dataframe tbody tr th {\n",
       "        vertical-align: top;\n",
       "    }\n",
       "\n",
       "    .dataframe thead th {\n",
       "        text-align: right;\n",
       "    }\n",
       "</style>\n",
       "<table border=\"1\" class=\"dataframe\">\n",
       "  <thead>\n",
       "    <tr style=\"text-align: right;\">\n",
       "      <th></th>\n",
       "      <th>courier</th>\n",
       "      <th>week</th>\n",
       "      <th>PC_1</th>\n",
       "      <th>PC_2</th>\n",
       "      <th>PC_3</th>\n",
       "      <th>PC_4</th>\n",
       "      <th>PC_5</th>\n",
       "      <th>PC_6</th>\n",
       "      <th>PC_7</th>\n",
       "      <th>PC_8</th>\n",
       "      <th>PC_9</th>\n",
       "      <th>PC_10</th>\n",
       "    </tr>\n",
       "  </thead>\n",
       "  <tbody>\n",
       "    <tr>\n",
       "      <th>0</th>\n",
       "      <td>3767</td>\n",
       "      <td>2</td>\n",
       "      <td>-0.197518</td>\n",
       "      <td>-0.028071</td>\n",
       "      <td>0.121019</td>\n",
       "      <td>0.065226</td>\n",
       "      <td>0.091357</td>\n",
       "      <td>-0.022928</td>\n",
       "      <td>0.117339</td>\n",
       "      <td>0.359929</td>\n",
       "      <td>0.115147</td>\n",
       "      <td>0.095282</td>\n",
       "    </tr>\n",
       "    <tr>\n",
       "      <th>1</th>\n",
       "      <td>3767</td>\n",
       "      <td>4</td>\n",
       "      <td>-0.109800</td>\n",
       "      <td>-0.225275</td>\n",
       "      <td>0.047072</td>\n",
       "      <td>0.072611</td>\n",
       "      <td>-0.150379</td>\n",
       "      <td>0.184709</td>\n",
       "      <td>0.137377</td>\n",
       "      <td>0.244301</td>\n",
       "      <td>0.127276</td>\n",
       "      <td>0.116829</td>\n",
       "    </tr>\n",
       "    <tr>\n",
       "      <th>2</th>\n",
       "      <td>3767</td>\n",
       "      <td>5</td>\n",
       "      <td>-0.156778</td>\n",
       "      <td>-0.229683</td>\n",
       "      <td>0.177220</td>\n",
       "      <td>0.131196</td>\n",
       "      <td>-0.018481</td>\n",
       "      <td>-0.028148</td>\n",
       "      <td>-0.017428</td>\n",
       "      <td>0.277041</td>\n",
       "      <td>0.196779</td>\n",
       "      <td>0.009968</td>\n",
       "    </tr>\n",
       "    <tr>\n",
       "      <th>3</th>\n",
       "      <td>3767</td>\n",
       "      <td>6</td>\n",
       "      <td>0.128969</td>\n",
       "      <td>-0.048616</td>\n",
       "      <td>0.291311</td>\n",
       "      <td>0.067048</td>\n",
       "      <td>-0.090015</td>\n",
       "      <td>-0.057296</td>\n",
       "      <td>-0.020106</td>\n",
       "      <td>0.188589</td>\n",
       "      <td>0.005287</td>\n",
       "      <td>0.070475</td>\n",
       "    </tr>\n",
       "    <tr>\n",
       "      <th>4</th>\n",
       "      <td>6282</td>\n",
       "      <td>2</td>\n",
       "      <td>-0.280686</td>\n",
       "      <td>-0.115248</td>\n",
       "      <td>0.074749</td>\n",
       "      <td>0.124274</td>\n",
       "      <td>0.022638</td>\n",
       "      <td>-0.045784</td>\n",
       "      <td>-0.015993</td>\n",
       "      <td>-0.034526</td>\n",
       "      <td>0.035521</td>\n",
       "      <td>-0.049110</td>\n",
       "    </tr>\n",
       "  </tbody>\n",
       "</table>\n",
       "</div>"
      ],
      "text/plain": [
       "   courier  week      PC_1      PC_2      PC_3      PC_4      PC_5      PC_6  \\\n",
       "0     3767     2 -0.197518 -0.028071  0.121019  0.065226  0.091357 -0.022928   \n",
       "1     3767     4 -0.109800 -0.225275  0.047072  0.072611 -0.150379  0.184709   \n",
       "2     3767     5 -0.156778 -0.229683  0.177220  0.131196 -0.018481 -0.028148   \n",
       "3     3767     6  0.128969 -0.048616  0.291311  0.067048 -0.090015 -0.057296   \n",
       "4     6282     2 -0.280686 -0.115248  0.074749  0.124274  0.022638 -0.045784   \n",
       "\n",
       "       PC_7      PC_8      PC_9     PC_10  \n",
       "0  0.117339  0.359929  0.115147  0.095282  \n",
       "1  0.137377  0.244301  0.127276  0.116829  \n",
       "2 -0.017428  0.277041  0.196779  0.009968  \n",
       "3 -0.020106  0.188589  0.005287  0.070475  \n",
       "4 -0.015993 -0.034526  0.035521 -0.049110  "
      ]
     },
     "execution_count": 22,
     "metadata": {},
     "output_type": "execute_result"
    }
   ],
   "source": [
    "# replace df_week with the new features obtained with the PCA\n",
    "\n",
    "df1 = df_week.iloc[:,0:2]\n",
    "df2 = pd.DataFrame(principalComponents[:,0:10], columns = ['PC_'+str(i+1) for i in range(10)])\n",
    "df_week = pd.concat([df1, df2], axis=1)\n",
    "df_week.head()"
   ]
  },
  {
   "cell_type": "markdown",
   "metadata": {},
   "source": [
    "Even though there is no missing values in any features for the weekly data, some of the courier - week data combinations are not provided considering the courriers don't work every weeks. <br>\n",
    "Because we'll need to use a regular input shape for the model later on, we'll have to deal with those missing values.<br>\n",
    "One way to do so would be to add a boolean variable (worked on week i noted __w_i__ defined earlier during the data analysis) indicating if a glover worked or not for every week (so 12 more features in total) and then create data for the 10 features for the weeks the glovers didn't work. \n",
    "Since we add a variable \"worked on week i\" __w_i__ taking value 0 or 1, and as long as we use a non linear model, the values inputed into the features 1 to 10 for the missing weeks do not really matter. Thus, we could just input the average value of the feature (for example). "
   ]
  },
  {
   "cell_type": "markdown",
   "metadata": {},
   "source": [
    "#### Creation of df_processed :  the data_frame eventually used for the training part"
   ]
  },
  {
   "cell_type": "code",
   "execution_count": 23,
   "metadata": {},
   "outputs": [],
   "source": [
    "# creation of the dataframe with the different features and the different weeks : w_0_feature_1 to w_11_feature_10\n",
    "\n",
    "#creation of the columns names:\n",
    "col_name = ['courier']\n",
    "for j in range(12):\n",
    "    col_name.append('w_'+str(j))\n",
    "    for i in range(10):\n",
    "        col_name.append('w_'+str(j)+'_feature_'+str(i+1)) \n",
    "\n",
    "# creation of the dataframe processed df_processed used later for the training part\n",
    "df_processed = pd.DataFrame([],columns = col_name) \n"
   ]
  },
  {
   "cell_type": "code",
   "execution_count": 24,
   "metadata": {},
   "outputs": [
    {
     "data": {
      "text/plain": [
       "759"
      ]
     },
     "execution_count": 24,
     "metadata": {},
     "output_type": "execute_result"
    }
   ],
   "source": [
    "# copy of the glovers id:\n",
    "\n",
    "df_processed.courier = df_week.courier.unique()\n",
    "len(df_week.courier.unique())"
   ]
  },
  {
   "cell_type": "markdown",
   "metadata": {},
   "source": [
    "There is __759 glovers__ with weekly informations (actives at least one of the last 11 weeks)"
   ]
  },
  {
   "cell_type": "code",
   "execution_count": 25,
   "metadata": {},
   "outputs": [],
   "source": [
    "# fill of the 'worked on week i' features:\n",
    "df_processed[['w_' + str(i) for i in range(12)]] = df_worked_week.iloc[:,1:-1]"
   ]
  },
  {
   "cell_type": "code",
   "execution_count": 26,
   "metadata": {
    "scrolled": true
   },
   "outputs": [
    {
     "name": "stderr",
     "output_type": "stream",
     "text": [
      "100% |########################################################################|\n"
     ]
    }
   ],
   "source": [
    "# fill the w_i_feature_j (with the value from df_week when it is avaible (when the glover worked) \n",
    "# or with the mean of the feature otherwise :\n",
    "\n",
    "x=1\n",
    "pbar = ProgressBar()\n",
    "for i, courier in enumerate(pbar(df_processed.courier)):\n",
    "    for w in range(12):\n",
    "        if df_week[(df_week.courier == courier) & (df_week.week == w)].empty : #if the glover courier didn't work on week w,\n",
    "            #we replace the value by the average value of the feature. \n",
    "            df_processed.iloc[i:i+1,w*11+2:w*11+12] = list(df_week.describe().loc['mean',:])[2:]\n",
    "        else: #otherwise we just input the known value\n",
    "            df_processed.iloc[i:i+1,w*11+2:w*11+12] = list(df_week[(df_week['courier'] == courier) & (df_week['week'] == w)].iloc[0,2:])\n"
   ]
  },
  {
   "cell_type": "code",
   "execution_count": 27,
   "metadata": {},
   "outputs": [],
   "source": [
    "# add of the target to the data frame:\n",
    "\n",
    "df_processed ['target'] = df_worked_week ['target']"
   ]
  },
  {
   "cell_type": "code",
   "execution_count": 28,
   "metadata": {},
   "outputs": [
    {
     "data": {
      "text/html": [
       "<div>\n",
       "<style scoped>\n",
       "    .dataframe tbody tr th:only-of-type {\n",
       "        vertical-align: middle;\n",
       "    }\n",
       "\n",
       "    .dataframe tbody tr th {\n",
       "        vertical-align: top;\n",
       "    }\n",
       "\n",
       "    .dataframe thead th {\n",
       "        text-align: right;\n",
       "    }\n",
       "</style>\n",
       "<table border=\"1\" class=\"dataframe\">\n",
       "  <thead>\n",
       "    <tr style=\"text-align: right;\">\n",
       "      <th></th>\n",
       "      <th>courier</th>\n",
       "      <th>w_0</th>\n",
       "      <th>w_0_feature_1</th>\n",
       "      <th>w_0_feature_2</th>\n",
       "      <th>w_0_feature_3</th>\n",
       "      <th>w_0_feature_4</th>\n",
       "      <th>w_0_feature_5</th>\n",
       "      <th>w_0_feature_6</th>\n",
       "      <th>w_0_feature_7</th>\n",
       "      <th>w_0_feature_8</th>\n",
       "      <th>...</th>\n",
       "      <th>w_11_feature_2</th>\n",
       "      <th>w_11_feature_3</th>\n",
       "      <th>w_11_feature_4</th>\n",
       "      <th>w_11_feature_5</th>\n",
       "      <th>w_11_feature_6</th>\n",
       "      <th>w_11_feature_7</th>\n",
       "      <th>w_11_feature_8</th>\n",
       "      <th>w_11_feature_9</th>\n",
       "      <th>w_11_feature_10</th>\n",
       "      <th>target</th>\n",
       "    </tr>\n",
       "  </thead>\n",
       "  <tbody>\n",
       "    <tr>\n",
       "      <th>0</th>\n",
       "      <td>3767</td>\n",
       "      <td>0</td>\n",
       "      <td>-4.42255e-17</td>\n",
       "      <td>2.12161e-17</td>\n",
       "      <td>4.46857e-17</td>\n",
       "      <td>5.2983e-17</td>\n",
       "      <td>1.11373e-17</td>\n",
       "      <td>2.80952e-17</td>\n",
       "      <td>6.02202e-18</td>\n",
       "      <td>-1.03776e-17</td>\n",
       "      <td>...</td>\n",
       "      <td>2.12161e-17</td>\n",
       "      <td>4.46857e-17</td>\n",
       "      <td>5.2983e-17</td>\n",
       "      <td>1.11373e-17</td>\n",
       "      <td>2.80952e-17</td>\n",
       "      <td>6.02202e-18</td>\n",
       "      <td>-1.03776e-17</td>\n",
       "      <td>-2.37611e-17</td>\n",
       "      <td>3.49136e-17</td>\n",
       "      <td>1</td>\n",
       "    </tr>\n",
       "    <tr>\n",
       "      <th>1</th>\n",
       "      <td>6282</td>\n",
       "      <td>0</td>\n",
       "      <td>-4.42255e-17</td>\n",
       "      <td>2.12161e-17</td>\n",
       "      <td>4.46857e-17</td>\n",
       "      <td>5.2983e-17</td>\n",
       "      <td>1.11373e-17</td>\n",
       "      <td>2.80952e-17</td>\n",
       "      <td>6.02202e-18</td>\n",
       "      <td>-1.03776e-17</td>\n",
       "      <td>...</td>\n",
       "      <td>-0.253882</td>\n",
       "      <td>-0.0223389</td>\n",
       "      <td>0.120794</td>\n",
       "      <td>0.0515715</td>\n",
       "      <td>0.0637042</td>\n",
       "      <td>-0.0433273</td>\n",
       "      <td>-0.0535366</td>\n",
       "      <td>0.0311076</td>\n",
       "      <td>-0.0737482</td>\n",
       "      <td>0</td>\n",
       "    </tr>\n",
       "    <tr>\n",
       "      <th>2</th>\n",
       "      <td>10622</td>\n",
       "      <td>1</td>\n",
       "      <td>0.0802699</td>\n",
       "      <td>0.210758</td>\n",
       "      <td>0.308797</td>\n",
       "      <td>-0.00974279</td>\n",
       "      <td>-0.0321708</td>\n",
       "      <td>0.122141</td>\n",
       "      <td>0.212806</td>\n",
       "      <td>-0.0326548</td>\n",
       "      <td>...</td>\n",
       "      <td>2.12161e-17</td>\n",
       "      <td>4.46857e-17</td>\n",
       "      <td>5.2983e-17</td>\n",
       "      <td>1.11373e-17</td>\n",
       "      <td>2.80952e-17</td>\n",
       "      <td>6.02202e-18</td>\n",
       "      <td>-1.03776e-17</td>\n",
       "      <td>-2.37611e-17</td>\n",
       "      <td>3.49136e-17</td>\n",
       "      <td>1</td>\n",
       "    </tr>\n",
       "    <tr>\n",
       "      <th>3</th>\n",
       "      <td>13096</td>\n",
       "      <td>0</td>\n",
       "      <td>-4.42255e-17</td>\n",
       "      <td>2.12161e-17</td>\n",
       "      <td>4.46857e-17</td>\n",
       "      <td>5.2983e-17</td>\n",
       "      <td>1.11373e-17</td>\n",
       "      <td>2.80952e-17</td>\n",
       "      <td>6.02202e-18</td>\n",
       "      <td>-1.03776e-17</td>\n",
       "      <td>...</td>\n",
       "      <td>-0.171401</td>\n",
       "      <td>0.214957</td>\n",
       "      <td>0.236688</td>\n",
       "      <td>-0.159487</td>\n",
       "      <td>-0.0263062</td>\n",
       "      <td>0.0167298</td>\n",
       "      <td>0.0435214</td>\n",
       "      <td>-0.0384093</td>\n",
       "      <td>0.000145729</td>\n",
       "      <td>0</td>\n",
       "    </tr>\n",
       "    <tr>\n",
       "      <th>4</th>\n",
       "      <td>14261</td>\n",
       "      <td>1</td>\n",
       "      <td>0.0847451</td>\n",
       "      <td>-0.0901285</td>\n",
       "      <td>0.0542134</td>\n",
       "      <td>0.178307</td>\n",
       "      <td>-0.0344218</td>\n",
       "      <td>-0.013468</td>\n",
       "      <td>0.208567</td>\n",
       "      <td>0.189786</td>\n",
       "      <td>...</td>\n",
       "      <td>2.12161e-17</td>\n",
       "      <td>4.46857e-17</td>\n",
       "      <td>5.2983e-17</td>\n",
       "      <td>1.11373e-17</td>\n",
       "      <td>2.80952e-17</td>\n",
       "      <td>6.02202e-18</td>\n",
       "      <td>-1.03776e-17</td>\n",
       "      <td>-2.37611e-17</td>\n",
       "      <td>3.49136e-17</td>\n",
       "      <td>1</td>\n",
       "    </tr>\n",
       "  </tbody>\n",
       "</table>\n",
       "<p>5 rows × 134 columns</p>\n",
       "</div>"
      ],
      "text/plain": [
       "   courier w_0 w_0_feature_1 w_0_feature_2 w_0_feature_3 w_0_feature_4  \\\n",
       "0     3767   0  -4.42255e-17   2.12161e-17   4.46857e-17    5.2983e-17   \n",
       "1     6282   0  -4.42255e-17   2.12161e-17   4.46857e-17    5.2983e-17   \n",
       "2    10622   1     0.0802699      0.210758      0.308797   -0.00974279   \n",
       "3    13096   0  -4.42255e-17   2.12161e-17   4.46857e-17    5.2983e-17   \n",
       "4    14261   1     0.0847451    -0.0901285     0.0542134      0.178307   \n",
       "\n",
       "  w_0_feature_5 w_0_feature_6 w_0_feature_7 w_0_feature_8  ... w_11_feature_2  \\\n",
       "0   1.11373e-17   2.80952e-17   6.02202e-18  -1.03776e-17  ...    2.12161e-17   \n",
       "1   1.11373e-17   2.80952e-17   6.02202e-18  -1.03776e-17  ...      -0.253882   \n",
       "2    -0.0321708      0.122141      0.212806    -0.0326548  ...    2.12161e-17   \n",
       "3   1.11373e-17   2.80952e-17   6.02202e-18  -1.03776e-17  ...      -0.171401   \n",
       "4    -0.0344218     -0.013468      0.208567      0.189786  ...    2.12161e-17   \n",
       "\n",
       "  w_11_feature_3 w_11_feature_4 w_11_feature_5 w_11_feature_6 w_11_feature_7  \\\n",
       "0    4.46857e-17     5.2983e-17    1.11373e-17    2.80952e-17    6.02202e-18   \n",
       "1     -0.0223389       0.120794      0.0515715      0.0637042     -0.0433273   \n",
       "2    4.46857e-17     5.2983e-17    1.11373e-17    2.80952e-17    6.02202e-18   \n",
       "3       0.214957       0.236688      -0.159487     -0.0263062      0.0167298   \n",
       "4    4.46857e-17     5.2983e-17    1.11373e-17    2.80952e-17    6.02202e-18   \n",
       "\n",
       "  w_11_feature_8 w_11_feature_9 w_11_feature_10 target  \n",
       "0   -1.03776e-17   -2.37611e-17     3.49136e-17      1  \n",
       "1     -0.0535366      0.0311076      -0.0737482      0  \n",
       "2   -1.03776e-17   -2.37611e-17     3.49136e-17      1  \n",
       "3      0.0435214     -0.0384093     0.000145729      0  \n",
       "4   -1.03776e-17   -2.37611e-17     3.49136e-17      1  \n",
       "\n",
       "[5 rows x 134 columns]"
      ]
     },
     "execution_count": 28,
     "metadata": {},
     "output_type": "execute_result"
    }
   ],
   "source": [
    "df_processed.head()"
   ]
  },
  {
   "cell_type": "code",
   "execution_count": 29,
   "metadata": {
    "scrolled": true
   },
   "outputs": [
    {
     "data": {
      "text/plain": [
       "0"
      ]
     },
     "execution_count": 29,
     "metadata": {},
     "output_type": "execute_result"
    }
   ],
   "source": [
    "sum(df_processed.isna().sum())"
   ]
  },
  {
   "cell_type": "code",
   "execution_count": 30,
   "metadata": {},
   "outputs": [
    {
     "data": {
      "text/plain": [
       "759"
      ]
     },
     "execution_count": 30,
     "metadata": {},
     "output_type": "execute_result"
    }
   ],
   "source": [
    "len(df_processed)"
   ]
  },
  {
   "cell_type": "markdown",
   "metadata": {},
   "source": [
    "The processing went well. There is no more empty values. <br> <br>"
   ]
  },
  {
   "cell_type": "markdown",
   "metadata": {},
   "source": [
    "#### Add of the lifetime features to df_processed"
   ]
  },
  {
   "cell_type": "code",
   "execution_count": 31,
   "metadata": {},
   "outputs": [],
   "source": [
    "# Left join on the lifetime Data Frame to get the lifetime feature_1 and feature_2\n",
    "df_processed = df_processed.merge(df_lifetime, left_on='courier', right_on='courier', how='inner')\n",
    "df_processed = df_processed.rename(columns = {'feature_1':'lt_feature_1','feature_2':'lt_feature_2'})"
   ]
  },
  {
   "cell_type": "code",
   "execution_count": 32,
   "metadata": {},
   "outputs": [
    {
     "data": {
      "text/html": [
       "<div>\n",
       "<style scoped>\n",
       "    .dataframe tbody tr th:only-of-type {\n",
       "        vertical-align: middle;\n",
       "    }\n",
       "\n",
       "    .dataframe tbody tr th {\n",
       "        vertical-align: top;\n",
       "    }\n",
       "\n",
       "    .dataframe thead th {\n",
       "        text-align: right;\n",
       "    }\n",
       "</style>\n",
       "<table border=\"1\" class=\"dataframe\">\n",
       "  <thead>\n",
       "    <tr style=\"text-align: right;\">\n",
       "      <th></th>\n",
       "      <th>courier</th>\n",
       "      <th>w_0</th>\n",
       "      <th>w_0_feature_1</th>\n",
       "      <th>w_0_feature_2</th>\n",
       "      <th>w_0_feature_3</th>\n",
       "      <th>w_0_feature_4</th>\n",
       "      <th>w_0_feature_5</th>\n",
       "      <th>w_0_feature_6</th>\n",
       "      <th>w_0_feature_7</th>\n",
       "      <th>w_0_feature_8</th>\n",
       "      <th>...</th>\n",
       "      <th>w_11_feature_4</th>\n",
       "      <th>w_11_feature_5</th>\n",
       "      <th>w_11_feature_6</th>\n",
       "      <th>w_11_feature_7</th>\n",
       "      <th>w_11_feature_8</th>\n",
       "      <th>w_11_feature_9</th>\n",
       "      <th>w_11_feature_10</th>\n",
       "      <th>target</th>\n",
       "      <th>lt_feature_1</th>\n",
       "      <th>lt_feature_2</th>\n",
       "    </tr>\n",
       "  </thead>\n",
       "  <tbody>\n",
       "    <tr>\n",
       "      <th>0</th>\n",
       "      <td>3767</td>\n",
       "      <td>0</td>\n",
       "      <td>-4.42255e-17</td>\n",
       "      <td>2.12161e-17</td>\n",
       "      <td>4.46857e-17</td>\n",
       "      <td>5.2983e-17</td>\n",
       "      <td>1.11373e-17</td>\n",
       "      <td>2.80952e-17</td>\n",
       "      <td>6.02202e-18</td>\n",
       "      <td>-1.03776e-17</td>\n",
       "      <td>...</td>\n",
       "      <td>5.2983e-17</td>\n",
       "      <td>1.11373e-17</td>\n",
       "      <td>2.80952e-17</td>\n",
       "      <td>6.02202e-18</td>\n",
       "      <td>-1.03776e-17</td>\n",
       "      <td>-2.37611e-17</td>\n",
       "      <td>3.49136e-17</td>\n",
       "      <td>1</td>\n",
       "      <td>b</td>\n",
       "      <td>33.0</td>\n",
       "    </tr>\n",
       "    <tr>\n",
       "      <th>1</th>\n",
       "      <td>6282</td>\n",
       "      <td>0</td>\n",
       "      <td>-4.42255e-17</td>\n",
       "      <td>2.12161e-17</td>\n",
       "      <td>4.46857e-17</td>\n",
       "      <td>5.2983e-17</td>\n",
       "      <td>1.11373e-17</td>\n",
       "      <td>2.80952e-17</td>\n",
       "      <td>6.02202e-18</td>\n",
       "      <td>-1.03776e-17</td>\n",
       "      <td>...</td>\n",
       "      <td>0.120794</td>\n",
       "      <td>0.0515715</td>\n",
       "      <td>0.0637042</td>\n",
       "      <td>-0.0433273</td>\n",
       "      <td>-0.0535366</td>\n",
       "      <td>0.0311076</td>\n",
       "      <td>-0.0737482</td>\n",
       "      <td>0</td>\n",
       "      <td>a</td>\n",
       "      <td>35.0</td>\n",
       "    </tr>\n",
       "    <tr>\n",
       "      <th>2</th>\n",
       "      <td>10622</td>\n",
       "      <td>1</td>\n",
       "      <td>0.0802699</td>\n",
       "      <td>0.210758</td>\n",
       "      <td>0.308797</td>\n",
       "      <td>-0.00974279</td>\n",
       "      <td>-0.0321708</td>\n",
       "      <td>0.122141</td>\n",
       "      <td>0.212806</td>\n",
       "      <td>-0.0326548</td>\n",
       "      <td>...</td>\n",
       "      <td>5.2983e-17</td>\n",
       "      <td>1.11373e-17</td>\n",
       "      <td>2.80952e-17</td>\n",
       "      <td>6.02202e-18</td>\n",
       "      <td>-1.03776e-17</td>\n",
       "      <td>-2.37611e-17</td>\n",
       "      <td>3.49136e-17</td>\n",
       "      <td>1</td>\n",
       "      <td>b</td>\n",
       "      <td>35.0</td>\n",
       "    </tr>\n",
       "    <tr>\n",
       "      <th>3</th>\n",
       "      <td>13096</td>\n",
       "      <td>0</td>\n",
       "      <td>-4.42255e-17</td>\n",
       "      <td>2.12161e-17</td>\n",
       "      <td>4.46857e-17</td>\n",
       "      <td>5.2983e-17</td>\n",
       "      <td>1.11373e-17</td>\n",
       "      <td>2.80952e-17</td>\n",
       "      <td>6.02202e-18</td>\n",
       "      <td>-1.03776e-17</td>\n",
       "      <td>...</td>\n",
       "      <td>0.236688</td>\n",
       "      <td>-0.159487</td>\n",
       "      <td>-0.0263062</td>\n",
       "      <td>0.0167298</td>\n",
       "      <td>0.0435214</td>\n",
       "      <td>-0.0384093</td>\n",
       "      <td>0.000145729</td>\n",
       "      <td>0</td>\n",
       "      <td>a</td>\n",
       "      <td>35.0</td>\n",
       "    </tr>\n",
       "    <tr>\n",
       "      <th>4</th>\n",
       "      <td>14261</td>\n",
       "      <td>1</td>\n",
       "      <td>0.0847451</td>\n",
       "      <td>-0.0901285</td>\n",
       "      <td>0.0542134</td>\n",
       "      <td>0.178307</td>\n",
       "      <td>-0.0344218</td>\n",
       "      <td>-0.013468</td>\n",
       "      <td>0.208567</td>\n",
       "      <td>0.189786</td>\n",
       "      <td>...</td>\n",
       "      <td>5.2983e-17</td>\n",
       "      <td>1.11373e-17</td>\n",
       "      <td>2.80952e-17</td>\n",
       "      <td>6.02202e-18</td>\n",
       "      <td>-1.03776e-17</td>\n",
       "      <td>-2.37611e-17</td>\n",
       "      <td>3.49136e-17</td>\n",
       "      <td>1</td>\n",
       "      <td>a</td>\n",
       "      <td>44.0</td>\n",
       "    </tr>\n",
       "  </tbody>\n",
       "</table>\n",
       "<p>5 rows × 136 columns</p>\n",
       "</div>"
      ],
      "text/plain": [
       "   courier w_0 w_0_feature_1 w_0_feature_2 w_0_feature_3 w_0_feature_4  \\\n",
       "0     3767   0  -4.42255e-17   2.12161e-17   4.46857e-17    5.2983e-17   \n",
       "1     6282   0  -4.42255e-17   2.12161e-17   4.46857e-17    5.2983e-17   \n",
       "2    10622   1     0.0802699      0.210758      0.308797   -0.00974279   \n",
       "3    13096   0  -4.42255e-17   2.12161e-17   4.46857e-17    5.2983e-17   \n",
       "4    14261   1     0.0847451    -0.0901285     0.0542134      0.178307   \n",
       "\n",
       "  w_0_feature_5 w_0_feature_6 w_0_feature_7 w_0_feature_8  ... w_11_feature_4  \\\n",
       "0   1.11373e-17   2.80952e-17   6.02202e-18  -1.03776e-17  ...     5.2983e-17   \n",
       "1   1.11373e-17   2.80952e-17   6.02202e-18  -1.03776e-17  ...       0.120794   \n",
       "2    -0.0321708      0.122141      0.212806    -0.0326548  ...     5.2983e-17   \n",
       "3   1.11373e-17   2.80952e-17   6.02202e-18  -1.03776e-17  ...       0.236688   \n",
       "4    -0.0344218     -0.013468      0.208567      0.189786  ...     5.2983e-17   \n",
       "\n",
       "  w_11_feature_5 w_11_feature_6 w_11_feature_7 w_11_feature_8 w_11_feature_9  \\\n",
       "0    1.11373e-17    2.80952e-17    6.02202e-18   -1.03776e-17   -2.37611e-17   \n",
       "1      0.0515715      0.0637042     -0.0433273     -0.0535366      0.0311076   \n",
       "2    1.11373e-17    2.80952e-17    6.02202e-18   -1.03776e-17   -2.37611e-17   \n",
       "3      -0.159487     -0.0263062      0.0167298      0.0435214     -0.0384093   \n",
       "4    1.11373e-17    2.80952e-17    6.02202e-18   -1.03776e-17   -2.37611e-17   \n",
       "\n",
       "  w_11_feature_10 target lt_feature_1 lt_feature_2  \n",
       "0     3.49136e-17      1            b         33.0  \n",
       "1      -0.0737482      0            a         35.0  \n",
       "2     3.49136e-17      1            b         35.0  \n",
       "3     0.000145729      0            a         35.0  \n",
       "4     3.49136e-17      1            a         44.0  \n",
       "\n",
       "[5 rows x 136 columns]"
      ]
     },
     "execution_count": 32,
     "metadata": {},
     "output_type": "execute_result"
    }
   ],
   "source": [
    "df_processed.head()"
   ]
  },
  {
   "cell_type": "code",
   "execution_count": 33,
   "metadata": {},
   "outputs": [],
   "source": [
    "# indexing of df_processed by courier\n",
    "df_processed.set_index('courier', inplace = True)"
   ]
  },
  {
   "cell_type": "markdown",
   "metadata": {},
   "source": [
    "#### Dummification of the categorical feature lt_feature_1"
   ]
  },
  {
   "cell_type": "code",
   "execution_count": 34,
   "metadata": {
    "scrolled": true
   },
   "outputs": [
    {
     "data": {
      "text/html": [
       "<div>\n",
       "<style scoped>\n",
       "    .dataframe tbody tr th:only-of-type {\n",
       "        vertical-align: middle;\n",
       "    }\n",
       "\n",
       "    .dataframe tbody tr th {\n",
       "        vertical-align: top;\n",
       "    }\n",
       "\n",
       "    .dataframe thead th {\n",
       "        text-align: right;\n",
       "    }\n",
       "</style>\n",
       "<table border=\"1\" class=\"dataframe\">\n",
       "  <thead>\n",
       "    <tr style=\"text-align: right;\">\n",
       "      <th></th>\n",
       "      <th>w_0</th>\n",
       "      <th>w_0_feature_1</th>\n",
       "      <th>w_0_feature_2</th>\n",
       "      <th>w_0_feature_3</th>\n",
       "      <th>w_0_feature_4</th>\n",
       "      <th>w_0_feature_5</th>\n",
       "      <th>w_0_feature_6</th>\n",
       "      <th>w_0_feature_7</th>\n",
       "      <th>w_0_feature_8</th>\n",
       "      <th>w_0_feature_9</th>\n",
       "      <th>...</th>\n",
       "      <th>w_11_feature_7</th>\n",
       "      <th>w_11_feature_8</th>\n",
       "      <th>w_11_feature_9</th>\n",
       "      <th>w_11_feature_10</th>\n",
       "      <th>target</th>\n",
       "      <th>lt_feature_2</th>\n",
       "      <th>lt_feature_1_a</th>\n",
       "      <th>lt_feature_1_b</th>\n",
       "      <th>lt_feature_1_c</th>\n",
       "      <th>lt_feature_1_d</th>\n",
       "    </tr>\n",
       "    <tr>\n",
       "      <th>courier</th>\n",
       "      <th></th>\n",
       "      <th></th>\n",
       "      <th></th>\n",
       "      <th></th>\n",
       "      <th></th>\n",
       "      <th></th>\n",
       "      <th></th>\n",
       "      <th></th>\n",
       "      <th></th>\n",
       "      <th></th>\n",
       "      <th></th>\n",
       "      <th></th>\n",
       "      <th></th>\n",
       "      <th></th>\n",
       "      <th></th>\n",
       "      <th></th>\n",
       "      <th></th>\n",
       "      <th></th>\n",
       "      <th></th>\n",
       "      <th></th>\n",
       "      <th></th>\n",
       "    </tr>\n",
       "  </thead>\n",
       "  <tbody>\n",
       "    <tr>\n",
       "      <th>3767</th>\n",
       "      <td>0</td>\n",
       "      <td>-4.42255e-17</td>\n",
       "      <td>2.12161e-17</td>\n",
       "      <td>4.46857e-17</td>\n",
       "      <td>5.2983e-17</td>\n",
       "      <td>1.11373e-17</td>\n",
       "      <td>2.80952e-17</td>\n",
       "      <td>6.02202e-18</td>\n",
       "      <td>-1.03776e-17</td>\n",
       "      <td>-2.37611e-17</td>\n",
       "      <td>...</td>\n",
       "      <td>6.02202e-18</td>\n",
       "      <td>-1.03776e-17</td>\n",
       "      <td>-2.37611e-17</td>\n",
       "      <td>3.49136e-17</td>\n",
       "      <td>1</td>\n",
       "      <td>33.0</td>\n",
       "      <td>0</td>\n",
       "      <td>1</td>\n",
       "      <td>0</td>\n",
       "      <td>0</td>\n",
       "    </tr>\n",
       "    <tr>\n",
       "      <th>6282</th>\n",
       "      <td>0</td>\n",
       "      <td>-4.42255e-17</td>\n",
       "      <td>2.12161e-17</td>\n",
       "      <td>4.46857e-17</td>\n",
       "      <td>5.2983e-17</td>\n",
       "      <td>1.11373e-17</td>\n",
       "      <td>2.80952e-17</td>\n",
       "      <td>6.02202e-18</td>\n",
       "      <td>-1.03776e-17</td>\n",
       "      <td>-2.37611e-17</td>\n",
       "      <td>...</td>\n",
       "      <td>-0.0433273</td>\n",
       "      <td>-0.0535366</td>\n",
       "      <td>0.0311076</td>\n",
       "      <td>-0.0737482</td>\n",
       "      <td>0</td>\n",
       "      <td>35.0</td>\n",
       "      <td>1</td>\n",
       "      <td>0</td>\n",
       "      <td>0</td>\n",
       "      <td>0</td>\n",
       "    </tr>\n",
       "    <tr>\n",
       "      <th>10622</th>\n",
       "      <td>1</td>\n",
       "      <td>0.0802699</td>\n",
       "      <td>0.210758</td>\n",
       "      <td>0.308797</td>\n",
       "      <td>-0.00974279</td>\n",
       "      <td>-0.0321708</td>\n",
       "      <td>0.122141</td>\n",
       "      <td>0.212806</td>\n",
       "      <td>-0.0326548</td>\n",
       "      <td>0.0444662</td>\n",
       "      <td>...</td>\n",
       "      <td>6.02202e-18</td>\n",
       "      <td>-1.03776e-17</td>\n",
       "      <td>-2.37611e-17</td>\n",
       "      <td>3.49136e-17</td>\n",
       "      <td>1</td>\n",
       "      <td>35.0</td>\n",
       "      <td>0</td>\n",
       "      <td>1</td>\n",
       "      <td>0</td>\n",
       "      <td>0</td>\n",
       "    </tr>\n",
       "    <tr>\n",
       "      <th>13096</th>\n",
       "      <td>0</td>\n",
       "      <td>-4.42255e-17</td>\n",
       "      <td>2.12161e-17</td>\n",
       "      <td>4.46857e-17</td>\n",
       "      <td>5.2983e-17</td>\n",
       "      <td>1.11373e-17</td>\n",
       "      <td>2.80952e-17</td>\n",
       "      <td>6.02202e-18</td>\n",
       "      <td>-1.03776e-17</td>\n",
       "      <td>-2.37611e-17</td>\n",
       "      <td>...</td>\n",
       "      <td>0.0167298</td>\n",
       "      <td>0.0435214</td>\n",
       "      <td>-0.0384093</td>\n",
       "      <td>0.000145729</td>\n",
       "      <td>0</td>\n",
       "      <td>35.0</td>\n",
       "      <td>1</td>\n",
       "      <td>0</td>\n",
       "      <td>0</td>\n",
       "      <td>0</td>\n",
       "    </tr>\n",
       "    <tr>\n",
       "      <th>14261</th>\n",
       "      <td>1</td>\n",
       "      <td>0.0847451</td>\n",
       "      <td>-0.0901285</td>\n",
       "      <td>0.0542134</td>\n",
       "      <td>0.178307</td>\n",
       "      <td>-0.0344218</td>\n",
       "      <td>-0.013468</td>\n",
       "      <td>0.208567</td>\n",
       "      <td>0.189786</td>\n",
       "      <td>0.0531061</td>\n",
       "      <td>...</td>\n",
       "      <td>6.02202e-18</td>\n",
       "      <td>-1.03776e-17</td>\n",
       "      <td>-2.37611e-17</td>\n",
       "      <td>3.49136e-17</td>\n",
       "      <td>1</td>\n",
       "      <td>44.0</td>\n",
       "      <td>1</td>\n",
       "      <td>0</td>\n",
       "      <td>0</td>\n",
       "      <td>0</td>\n",
       "    </tr>\n",
       "  </tbody>\n",
       "</table>\n",
       "<p>5 rows × 138 columns</p>\n",
       "</div>"
      ],
      "text/plain": [
       "        w_0 w_0_feature_1 w_0_feature_2 w_0_feature_3 w_0_feature_4  \\\n",
       "courier                                                               \n",
       "3767      0  -4.42255e-17   2.12161e-17   4.46857e-17    5.2983e-17   \n",
       "6282      0  -4.42255e-17   2.12161e-17   4.46857e-17    5.2983e-17   \n",
       "10622     1     0.0802699      0.210758      0.308797   -0.00974279   \n",
       "13096     0  -4.42255e-17   2.12161e-17   4.46857e-17    5.2983e-17   \n",
       "14261     1     0.0847451    -0.0901285     0.0542134      0.178307   \n",
       "\n",
       "        w_0_feature_5 w_0_feature_6 w_0_feature_7 w_0_feature_8 w_0_feature_9  \\\n",
       "courier                                                                         \n",
       "3767      1.11373e-17   2.80952e-17   6.02202e-18  -1.03776e-17  -2.37611e-17   \n",
       "6282      1.11373e-17   2.80952e-17   6.02202e-18  -1.03776e-17  -2.37611e-17   \n",
       "10622      -0.0321708      0.122141      0.212806    -0.0326548     0.0444662   \n",
       "13096     1.11373e-17   2.80952e-17   6.02202e-18  -1.03776e-17  -2.37611e-17   \n",
       "14261      -0.0344218     -0.013468      0.208567      0.189786     0.0531061   \n",
       "\n",
       "         ... w_11_feature_7 w_11_feature_8 w_11_feature_9 w_11_feature_10  \\\n",
       "courier  ...                                                                \n",
       "3767     ...    6.02202e-18   -1.03776e-17   -2.37611e-17     3.49136e-17   \n",
       "6282     ...     -0.0433273     -0.0535366      0.0311076      -0.0737482   \n",
       "10622    ...    6.02202e-18   -1.03776e-17   -2.37611e-17     3.49136e-17   \n",
       "13096    ...      0.0167298      0.0435214     -0.0384093     0.000145729   \n",
       "14261    ...    6.02202e-18   -1.03776e-17   -2.37611e-17     3.49136e-17   \n",
       "\n",
       "        target lt_feature_2 lt_feature_1_a lt_feature_1_b lt_feature_1_c  \\\n",
       "courier                                                                    \n",
       "3767         1         33.0              0              1              0   \n",
       "6282         0         35.0              1              0              0   \n",
       "10622        1         35.0              0              1              0   \n",
       "13096        0         35.0              1              0              0   \n",
       "14261        1         44.0              1              0              0   \n",
       "\n",
       "        lt_feature_1_d  \n",
       "courier                 \n",
       "3767                 0  \n",
       "6282                 0  \n",
       "10622                0  \n",
       "13096                0  \n",
       "14261                0  \n",
       "\n",
       "[5 rows x 138 columns]"
      ]
     },
     "execution_count": 34,
     "metadata": {},
     "output_type": "execute_result"
    }
   ],
   "source": [
    "df_processed = pd.concat([df_processed, pd.get_dummies(df_processed['lt_feature_1'],prefix = 'lt_feature_1')], axis = 1)\n",
    "df_processed.drop('lt_feature_1', axis=1, inplace = True)\n",
    "df_processed.head()"
   ]
  },
  {
   "cell_type": "markdown",
   "metadata": {},
   "source": [
    "#### Some final processings before training:"
   ]
  },
  {
   "cell_type": "code",
   "execution_count": 35,
   "metadata": {},
   "outputs": [],
   "source": [
    "# remove of the weeks 8 to 11:\n",
    "df_processed = pd.concat([df_processed.iloc[:,0:-50], df_processed.iloc[:,-6:]],axis = 1)"
   ]
  },
  {
   "cell_type": "code",
   "execution_count": 36,
   "metadata": {
    "scrolled": true
   },
   "outputs": [
    {
     "data": {
      "text/html": [
       "<div>\n",
       "<style scoped>\n",
       "    .dataframe tbody tr th:only-of-type {\n",
       "        vertical-align: middle;\n",
       "    }\n",
       "\n",
       "    .dataframe tbody tr th {\n",
       "        vertical-align: top;\n",
       "    }\n",
       "\n",
       "    .dataframe thead th {\n",
       "        text-align: right;\n",
       "    }\n",
       "</style>\n",
       "<table border=\"1\" class=\"dataframe\">\n",
       "  <thead>\n",
       "    <tr style=\"text-align: right;\">\n",
       "      <th></th>\n",
       "      <th>w_0</th>\n",
       "      <th>w_0_feature_1</th>\n",
       "      <th>w_0_feature_2</th>\n",
       "      <th>w_0_feature_3</th>\n",
       "      <th>w_0_feature_4</th>\n",
       "      <th>w_0_feature_5</th>\n",
       "      <th>w_0_feature_6</th>\n",
       "      <th>w_0_feature_7</th>\n",
       "      <th>w_0_feature_8</th>\n",
       "      <th>w_0_feature_9</th>\n",
       "      <th>...</th>\n",
       "      <th>w_7_feature_7</th>\n",
       "      <th>w_7_feature_8</th>\n",
       "      <th>w_7_feature_9</th>\n",
       "      <th>w_7_feature_10</th>\n",
       "      <th>target</th>\n",
       "      <th>lt_feature_2</th>\n",
       "      <th>lt_feature_1_a</th>\n",
       "      <th>lt_feature_1_b</th>\n",
       "      <th>lt_feature_1_c</th>\n",
       "      <th>lt_feature_1_d</th>\n",
       "    </tr>\n",
       "    <tr>\n",
       "      <th>courier</th>\n",
       "      <th></th>\n",
       "      <th></th>\n",
       "      <th></th>\n",
       "      <th></th>\n",
       "      <th></th>\n",
       "      <th></th>\n",
       "      <th></th>\n",
       "      <th></th>\n",
       "      <th></th>\n",
       "      <th></th>\n",
       "      <th></th>\n",
       "      <th></th>\n",
       "      <th></th>\n",
       "      <th></th>\n",
       "      <th></th>\n",
       "      <th></th>\n",
       "      <th></th>\n",
       "      <th></th>\n",
       "      <th></th>\n",
       "      <th></th>\n",
       "      <th></th>\n",
       "    </tr>\n",
       "  </thead>\n",
       "  <tbody>\n",
       "    <tr>\n",
       "      <th>3767</th>\n",
       "      <td>0</td>\n",
       "      <td>-4.42255e-17</td>\n",
       "      <td>2.12161e-17</td>\n",
       "      <td>4.46857e-17</td>\n",
       "      <td>5.2983e-17</td>\n",
       "      <td>1.11373e-17</td>\n",
       "      <td>2.80952e-17</td>\n",
       "      <td>6.02202e-18</td>\n",
       "      <td>-1.03776e-17</td>\n",
       "      <td>-2.37611e-17</td>\n",
       "      <td>...</td>\n",
       "      <td>6.02202e-18</td>\n",
       "      <td>-1.03776e-17</td>\n",
       "      <td>-2.37611e-17</td>\n",
       "      <td>3.49136e-17</td>\n",
       "      <td>1</td>\n",
       "      <td>33.0</td>\n",
       "      <td>0</td>\n",
       "      <td>1</td>\n",
       "      <td>0</td>\n",
       "      <td>0</td>\n",
       "    </tr>\n",
       "    <tr>\n",
       "      <th>6282</th>\n",
       "      <td>0</td>\n",
       "      <td>-4.42255e-17</td>\n",
       "      <td>2.12161e-17</td>\n",
       "      <td>4.46857e-17</td>\n",
       "      <td>5.2983e-17</td>\n",
       "      <td>1.11373e-17</td>\n",
       "      <td>2.80952e-17</td>\n",
       "      <td>6.02202e-18</td>\n",
       "      <td>-1.03776e-17</td>\n",
       "      <td>-2.37611e-17</td>\n",
       "      <td>...</td>\n",
       "      <td>-0.00532257</td>\n",
       "      <td>0.19246</td>\n",
       "      <td>0.0776793</td>\n",
       "      <td>0.0864874</td>\n",
       "      <td>0</td>\n",
       "      <td>35.0</td>\n",
       "      <td>1</td>\n",
       "      <td>0</td>\n",
       "      <td>0</td>\n",
       "      <td>0</td>\n",
       "    </tr>\n",
       "    <tr>\n",
       "      <th>10622</th>\n",
       "      <td>1</td>\n",
       "      <td>0.0802699</td>\n",
       "      <td>0.210758</td>\n",
       "      <td>0.308797</td>\n",
       "      <td>-0.00974279</td>\n",
       "      <td>-0.0321708</td>\n",
       "      <td>0.122141</td>\n",
       "      <td>0.212806</td>\n",
       "      <td>-0.0326548</td>\n",
       "      <td>0.0444662</td>\n",
       "      <td>...</td>\n",
       "      <td>6.02202e-18</td>\n",
       "      <td>-1.03776e-17</td>\n",
       "      <td>-2.37611e-17</td>\n",
       "      <td>3.49136e-17</td>\n",
       "      <td>1</td>\n",
       "      <td>35.0</td>\n",
       "      <td>0</td>\n",
       "      <td>1</td>\n",
       "      <td>0</td>\n",
       "      <td>0</td>\n",
       "    </tr>\n",
       "    <tr>\n",
       "      <th>13096</th>\n",
       "      <td>0</td>\n",
       "      <td>-4.42255e-17</td>\n",
       "      <td>2.12161e-17</td>\n",
       "      <td>4.46857e-17</td>\n",
       "      <td>5.2983e-17</td>\n",
       "      <td>1.11373e-17</td>\n",
       "      <td>2.80952e-17</td>\n",
       "      <td>6.02202e-18</td>\n",
       "      <td>-1.03776e-17</td>\n",
       "      <td>-2.37611e-17</td>\n",
       "      <td>...</td>\n",
       "      <td>6.02202e-18</td>\n",
       "      <td>-1.03776e-17</td>\n",
       "      <td>-2.37611e-17</td>\n",
       "      <td>3.49136e-17</td>\n",
       "      <td>0</td>\n",
       "      <td>35.0</td>\n",
       "      <td>1</td>\n",
       "      <td>0</td>\n",
       "      <td>0</td>\n",
       "      <td>0</td>\n",
       "    </tr>\n",
       "    <tr>\n",
       "      <th>14261</th>\n",
       "      <td>1</td>\n",
       "      <td>0.0847451</td>\n",
       "      <td>-0.0901285</td>\n",
       "      <td>0.0542134</td>\n",
       "      <td>0.178307</td>\n",
       "      <td>-0.0344218</td>\n",
       "      <td>-0.013468</td>\n",
       "      <td>0.208567</td>\n",
       "      <td>0.189786</td>\n",
       "      <td>0.0531061</td>\n",
       "      <td>...</td>\n",
       "      <td>0.129808</td>\n",
       "      <td>0.148851</td>\n",
       "      <td>-0.0782919</td>\n",
       "      <td>0.0255109</td>\n",
       "      <td>1</td>\n",
       "      <td>44.0</td>\n",
       "      <td>1</td>\n",
       "      <td>0</td>\n",
       "      <td>0</td>\n",
       "      <td>0</td>\n",
       "    </tr>\n",
       "  </tbody>\n",
       "</table>\n",
       "<p>5 rows × 94 columns</p>\n",
       "</div>"
      ],
      "text/plain": [
       "        w_0 w_0_feature_1 w_0_feature_2 w_0_feature_3 w_0_feature_4  \\\n",
       "courier                                                               \n",
       "3767      0  -4.42255e-17   2.12161e-17   4.46857e-17    5.2983e-17   \n",
       "6282      0  -4.42255e-17   2.12161e-17   4.46857e-17    5.2983e-17   \n",
       "10622     1     0.0802699      0.210758      0.308797   -0.00974279   \n",
       "13096     0  -4.42255e-17   2.12161e-17   4.46857e-17    5.2983e-17   \n",
       "14261     1     0.0847451    -0.0901285     0.0542134      0.178307   \n",
       "\n",
       "        w_0_feature_5 w_0_feature_6 w_0_feature_7 w_0_feature_8 w_0_feature_9  \\\n",
       "courier                                                                         \n",
       "3767      1.11373e-17   2.80952e-17   6.02202e-18  -1.03776e-17  -2.37611e-17   \n",
       "6282      1.11373e-17   2.80952e-17   6.02202e-18  -1.03776e-17  -2.37611e-17   \n",
       "10622      -0.0321708      0.122141      0.212806    -0.0326548     0.0444662   \n",
       "13096     1.11373e-17   2.80952e-17   6.02202e-18  -1.03776e-17  -2.37611e-17   \n",
       "14261      -0.0344218     -0.013468      0.208567      0.189786     0.0531061   \n",
       "\n",
       "         ... w_7_feature_7 w_7_feature_8 w_7_feature_9 w_7_feature_10 target  \\\n",
       "courier  ...                                                                   \n",
       "3767     ...   6.02202e-18  -1.03776e-17  -2.37611e-17    3.49136e-17      1   \n",
       "6282     ...   -0.00532257       0.19246     0.0776793      0.0864874      0   \n",
       "10622    ...   6.02202e-18  -1.03776e-17  -2.37611e-17    3.49136e-17      1   \n",
       "13096    ...   6.02202e-18  -1.03776e-17  -2.37611e-17    3.49136e-17      0   \n",
       "14261    ...      0.129808      0.148851    -0.0782919      0.0255109      1   \n",
       "\n",
       "        lt_feature_2 lt_feature_1_a lt_feature_1_b lt_feature_1_c  \\\n",
       "courier                                                             \n",
       "3767            33.0              0              1              0   \n",
       "6282            35.0              1              0              0   \n",
       "10622           35.0              0              1              0   \n",
       "13096           35.0              1              0              0   \n",
       "14261           44.0              1              0              0   \n",
       "\n",
       "        lt_feature_1_d  \n",
       "courier                 \n",
       "3767                 0  \n",
       "6282                 0  \n",
       "10622                0  \n",
       "13096                0  \n",
       "14261                0  \n",
       "\n",
       "[5 rows x 94 columns]"
      ]
     },
     "execution_count": 36,
     "metadata": {},
     "output_type": "execute_result"
    }
   ],
   "source": [
    "df_processed.head()"
   ]
  },
  {
   "cell_type": "code",
   "execution_count": 37,
   "metadata": {},
   "outputs": [],
   "source": [
    "# saving of the dataframe if we just want to import it without running all the dataprocessing\n",
    "df_processed.to_csv(r'df_processed.csv', index = False)\n"
   ]
  },
  {
   "cell_type": "code",
   "execution_count": 38,
   "metadata": {},
   "outputs": [],
   "source": [
    "# import of the data frame df_processed from the saved file df_processed.csv\n",
    "df_processed = pd.read_csv(r'df_processed.csv')"
   ]
  },
  {
   "cell_type": "markdown",
   "metadata": {},
   "source": [
    "<a name=\"TITLE2\"></a>\n",
    "## II. TASK 2 : Creation of a predictive algorithm "
   ]
  },
  {
   "cell_type": "markdown",
   "metadata": {},
   "source": [
    "First of all lets check the repartition of the target: "
   ]
  },
  {
   "cell_type": "code",
   "execution_count": 39,
   "metadata": {},
   "outputs": [
    {
     "data": {
      "text/plain": [
       "0.4901185770750988"
      ]
     },
     "execution_count": 39,
     "metadata": {},
     "output_type": "execute_result"
    }
   ],
   "source": [
    "sum(df_processed.target)/len(df_processed)"
   ]
  },
  {
   "cell_type": "markdown",
   "metadata": {},
   "source": [
    "The target is almost evenly spread so, apparently there is no need for now to weight the classes for the training."
   ]
  },
  {
   "cell_type": "code",
   "execution_count": 40,
   "metadata": {},
   "outputs": [],
   "source": [
    "X = df_processed.apply(pd.to_numeric).drop('target', axis=1)\n",
    "y = df_processed['target'].apply(pd.to_numeric)"
   ]
  },
  {
   "cell_type": "code",
   "execution_count": 41,
   "metadata": {},
   "outputs": [],
   "source": [
    "# Train Validation Test split\n",
    "X_train, X_test, y_train, y_test = train_test_split(X, y, test_size = 0.20, random_state = 66)\n",
    "X_train, X_validation, y_train, y_validation = train_test_split(X_train, y_train, test_size = 0.33, random_state = 66)\n"
   ]
  },
  {
   "cell_type": "markdown",
   "metadata": {},
   "source": [
    "### II. 1. First tests of some classification algorithms with hyper parameters default values <a name=\"subparagraph2.1\"></a>"
   ]
  },
  {
   "cell_type": "markdown",
   "metadata": {},
   "source": [
    "For this step the metric we will use for the training of the algorithm is the default metric for this kind of problem: __the minimization of the error__ (or __maximization of the accuracy__)"
   ]
  },
  {
   "cell_type": "code",
   "execution_count": 43,
   "metadata": {},
   "outputs": [],
   "source": [
    "# function to display the performances of the model on the validation set:\n",
    "\n",
    "def print_metrics(model,cv_score,X_validation,y_validation):\n",
    "    prediction = model.predict(X_validation)\n",
    "    print(\"=== Confusion Matrix ===\")\n",
    "    disp = plot_confusion_matrix(model, X_validation,y_validation,cmap=plt.cm.Blues)\n",
    "    disp.ax_.set_title('Confusion Matrix')\n",
    "    plt.show()\n",
    "    print('\\n')\n",
    "    print(\"=== Classification Report ===\")\n",
    "    print(classification_report(y_validation, prediction))\n",
    "    print('\\n')\n",
    "    print(\"=== All AUC Scores ===\")\n",
    "    print(cv_score)\n",
    "    print('\\n')\n",
    "    print(\"=== Mean AUC Score ===\")\n",
    "    print(\"Mean AUC Score : \", cv_score.mean())\n",
    "    print('\\n')\n",
    "    print(\"=== Total count ===\")\n",
    "    print(\"Total of active glovers : \" + str(sum(y_validation==0)) + \"  Predicted number of active glovers : \" + str(sum(prediction==0)))\n",
    "    print(\"Delta = \" + str( round((100*(sum(prediction==0) - sum(y_validation==0))/sum(y_validation==0) ),3)) + '%')"
   ]
  },
  {
   "cell_type": "markdown",
   "metadata": {},
   "source": [
    "### a. Logistic Regression"
   ]
  },
  {
   "cell_type": "code",
   "execution_count": 42,
   "metadata": {},
   "outputs": [],
   "source": [
    "lr = LogisticRegression(random_state=0,max_iter = 1000)\n",
    "lr.fit(X_train, y_train)\n",
    "lr_predict = lr.predict(X_validation)"
   ]
  },
  {
   "cell_type": "code",
   "execution_count": 44,
   "metadata": {},
   "outputs": [
    {
     "name": "stdout",
     "output_type": "stream",
     "text": [
      "=== Confusion Matrix ===\n"
     ]
    },
    {
     "data": {
      "image/png": "[encoded data removed]",
      "text/plain": [
       "<Figure size 432x288 with 2 Axes>"
      ]
     },
     "metadata": {
      "needs_background": "light"
     },
     "output_type": "display_data"
    },
    {
     "name": "stdout",
     "output_type": "stream",
     "text": [
      "\n",
      "\n",
      "=== Classification Report ===\n",
      "              precision    recall  f1-score   support\n",
      "\n",
      "           0       0.72      0.65      0.68       100\n",
      "           1       0.68      0.75      0.72       101\n",
      "\n",
      "    accuracy                           0.70       201\n",
      "   macro avg       0.70      0.70      0.70       201\n",
      "weighted avg       0.70      0.70      0.70       201\n",
      "\n",
      "\n",
      "\n",
      "=== All AUC Scores ===\n",
      "[0.8  0.76 0.69 0.78 0.78 0.94 0.61 0.69 0.69 0.86]\n",
      "\n",
      "\n",
      "=== Mean AUC Score ===\n",
      "Mean AUC Score :  0.7600000000000001\n",
      "\n",
      "\n",
      "=== Total count ===\n",
      "Total of active glovers : 100  Predicted number of active glovers : 90\n",
      "Delta = -10.0%\n"
     ]
    }
   ],
   "source": [
    "lr_cv_score = cross_val_score(lr, X_validation, y_validation, cv=10, scoring='roc_auc')\n",
    "print_metrics(lr,lr_cv_score,X_validation,y_validation)\n"
   ]
  },
  {
   "cell_type": "markdown",
   "metadata": {},
   "source": [
    "### b. Random Forest"
   ]
  },
  {
   "cell_type": "code",
   "execution_count": 45,
   "metadata": {},
   "outputs": [],
   "source": [
    "# random forest model creation\n",
    "rfc = RandomForestClassifier()\n",
    "rfc.fit(X_train,y_train)\n",
    "# predictions\n",
    "rfc_predict = rfc.predict(X_validation)"
   ]
  },
  {
   "cell_type": "code",
   "execution_count": 46,
   "metadata": {},
   "outputs": [
    {
     "name": "stdout",
     "output_type": "stream",
     "text": [
      "=== Confusion Matrix ===\n"
     ]
    },
    {
     "data": {
      "image/png": "[encoded data removed]",
      "text/plain": [
       "<Figure size 432x288 with 2 Axes>"
      ]
     },
     "metadata": {
      "needs_background": "light"
     },
     "output_type": "display_data"
    },
    {
     "name": "stdout",
     "output_type": "stream",
     "text": [
      "\n",
      "\n",
      "=== Classification Report ===\n",
      "              precision    recall  f1-score   support\n",
      "\n",
      "           0       0.67      0.85      0.75       100\n",
      "           1       0.80      0.59      0.68       101\n",
      "\n",
      "    accuracy                           0.72       201\n",
      "   macro avg       0.74      0.72      0.72       201\n",
      "weighted avg       0.74      0.72      0.72       201\n",
      "\n",
      "\n",
      "\n",
      "=== All AUC Scores ===\n",
      "[0.83636364 0.58       0.68       0.66       0.87       0.82\n",
      " 0.695      0.755      0.585      0.82      ]\n",
      "\n",
      "\n",
      "=== Mean AUC Score ===\n",
      "Mean AUC Score :  0.7301363636363637\n",
      "\n",
      "\n",
      "=== Total count ===\n",
      "Total of active glovers : 100  Predicted number of active glovers : 126\n",
      "Delta = 26.0%\n"
     ]
    }
   ],
   "source": [
    "rfc_cv_score = cross_val_score(rfc, X_validation, y_validation, cv=10, scoring='roc_auc')\n",
    "print_metrics(rfc,rfc_cv_score,X_validation,y_validation)"
   ]
  },
  {
   "cell_type": "markdown",
   "metadata": {},
   "source": [
    "### c. XGBoost"
   ]
  },
  {
   "cell_type": "code",
   "execution_count": 47,
   "metadata": {
    "scrolled": false
   },
   "outputs": [
    {
     "name": "stdout",
     "output_type": "stream",
     "text": [
      "=== Confusion Matrix ===\n"
     ]
    },
    {
     "data": {
      "image/png": "[encoded data removed]",
      "text/plain": [
       "<Figure size 432x288 with 2 Axes>"
      ]
     },
     "metadata": {
      "needs_background": "light"
     },
     "output_type": "display_data"
    },
    {
     "name": "stdout",
     "output_type": "stream",
     "text": [
      "\n",
      "\n",
      "=== Classification Report ===\n",
      "              precision    recall  f1-score   support\n",
      "\n",
      "           0       0.72      0.76      0.74       100\n",
      "           1       0.75      0.70      0.72       101\n",
      "\n",
      "    accuracy                           0.73       201\n",
      "   macro avg       0.73      0.73      0.73       201\n",
      "weighted avg       0.73      0.73      0.73       201\n",
      "\n",
      "\n",
      "\n",
      "=== All AUC Scores ===\n",
      "[0.78181818 0.59       0.6        0.61       0.84       0.9\n",
      " 0.75       0.72       0.75       0.99      ]\n",
      "\n",
      "\n",
      "=== Mean AUC Score ===\n",
      "Mean AUC Score :  0.7531818181818182\n",
      "\n",
      "\n",
      "=== Total count ===\n",
      "Total of active glovers : 100  Predicted number of active glovers : 106\n",
      "Delta = 6.0%\n"
     ]
    }
   ],
   "source": [
    "XGB = XGBClassifier()\n",
    "XGB.fit(X_train, y_train)\n",
    "XGB_predict = XGB.predict(X_validation)\n",
    "XGB_cv_score = cross_val_score(XGB, X_validation, y_validation, cv=10, scoring='roc_auc')\n",
    "print_metrics(XGB,XGB_cv_score,X_validation,y_validation)"
   ]
  },
  {
   "cell_type": "code",
   "execution_count": 48,
   "metadata": {},
   "outputs": [
    {
     "data": {
      "image/png": "[encoded data removed]",
      "text/plain": [
       "<Figure size 720x720 with 1 Axes>"
      ]
     },
     "metadata": {},
     "output_type": "display_data"
    }
   ],
   "source": [
    "# Plot of the ROC curves\n",
    "\n",
    "plt.style.use('seaborn-whitegrid')\n",
    "fig = plt.figure(figsize=(10,10)) \n",
    "\n",
    "# calculate the fpr and tpr for all thresholds of the classification\n",
    "\n",
    "models_names = [\n",
    "    'Logistic Regression', \n",
    "    'Random Forest', \n",
    "    'Gradient Boosting Trees'\n",
    "]\n",
    "\n",
    "models = [\n",
    "    lr,\n",
    "    rfc,\n",
    "    XGB]\n",
    "\n",
    "colors = [\n",
    "    'blue',\n",
    "    'red',\n",
    "    'cyan',\n",
    "]\n",
    "\n",
    "\n",
    "def plot_roc_curves(model,model_name, color):\n",
    "    probs = model.predict_proba(X_validation)\n",
    "    preds = probs[:,1]\n",
    "    fpr, tpr, threshold = roc_curve(y_validation, preds)\n",
    "    roc_auc = auc(fpr, tpr)\n",
    "    plt.plot(fpr, tpr, 'b', label = model_name + ' AUC = %0.2f' % roc_auc, color=color)\n",
    "    plt.legend(loc = 'lower right')\n",
    "    \n",
    "for i, model in list(enumerate(models)):\n",
    "    plot_roc_curves(model, models_names[i], colors[i])\n",
    "\n",
    "plt.title('Receiver Operating Characteristic')\n",
    "#plt.plot(fpr, tpr, 'b', label = 'AUC = %0.2f' % roc_auc)\n",
    "plt.legend(loc = 'lower right')\n",
    "plt.plot([0, 1], [0, 1],'r--')\n",
    "plt.xlim([0, 1])\n",
    "plt.ylim([0, 1])\n",
    "plt.ylabel('True Positive Rate')\n",
    "plt.xlabel('False Positive Rate')\n",
    "plt.show()"
   ]
  },
  {
   "cell_type": "markdown",
   "metadata": {},
   "source": [
    "### d. Model selection and Hyper-parameters tuning"
   ]
  },
  {
   "cell_type": "markdown",
   "metadata": {},
   "source": [
    "#### Business and metrics analysis, model selection:\n",
    "The main question here is to know whether we would like to prioritize the ___glovers' income maximization___ and ___cost efficiency___ or the ___marketplace reliability___: <br>\n",
    "- If our model __under-estimates the number of churners__ (and so over estimate the number of glovers available during the churn window), the manager will leverage fewer ressources to increase the fleet for the next three weeks. The consequences might be :\n",
    "    - a risk of understaffing and then a threat to the market place reliability.\n",
    "    - a maximization of the glovers income considering the fact that they'll have more deliveries and a better cost efficiency for Glovo\n",
    "- On the other hand, if the model __over-estimates the number of churners__ (and so under estimate the number of glovers) the manager will have to make sure that more glovers will sign in for the next three weeks or to set a strategy to keep the potential churners. Eventually, the fleet would be too consistent for the need and this might result to unnecessary expenses and under-employability of the glovers. But it would guarantee the marketplace reliability (every order would find a glover quickly). \n",
    "<br> \n",
    "Obviously an optimal model would predict the good number of churner (small Delta) and could at the same time guarantee ___glovers' income maximization___, ___cost efficiency___ and the ___marketplace reliability___<br>\n",
    "<br> Here, we choose to considere that the priority is the ___marketplace reliability___. Hence, we want a model with a good precision on the churn (class 1) and a positive (but small Delta). More general measures of the quality of the model are the air under the roc curve (AUC) and the F1 score (harmonic mean of the precision and recall). After tuning the model, we'll choose an optimal threshold. <br> \n",
    "Eventually, we'll keep going with the __XGBoost__ model and try to optimize its hyper-parameters. "
   ]
  },
  {
   "cell_type": "markdown",
   "metadata": {},
   "source": [
    "### II. 2. Hyper-parameters tuning¶ <a name=\"subparagraph2.2\"></a>"
   ]
  },
  {
   "cell_type": "markdown",
   "metadata": {},
   "source": [
    "Let's find the optimal hyper-parameters. <br> \n",
    "To do so, we'll use a randomized grid search method __RandomizedSearchCV__ (because the number of hyper parameters for a XGBoost classifier is quit high). This method does not explore every possible hyper-parameters combinaisons but only samples from a distribution of each hyperparameters."
   ]
  },
  {
   "cell_type": "code",
   "execution_count": 49,
   "metadata": {},
   "outputs": [
    {
     "name": "stdout",
     "output_type": "stream",
     "text": [
      "Best score: 0.7328515208356321\n",
      "Best params: \n",
      "colsample_bylevel: 1.0\n",
      "colsample_bytree: 0.5\n",
      "gamma: 1.0\n",
      "learning_rate: 0.01\n",
      "max_depth: 10\n",
      "min_child_weight: 5.0\n",
      "n_estimators: 100\n",
      "reg_lambda: 10.0\n",
      "silent: False\n",
      "subsample: 0.5\n"
     ]
    }
   ],
   "source": [
    "params = {\n",
    "        'silent': [False],\n",
    "        'max_depth': [6, 10, 15, 20],\n",
    "        'learning_rate': [0.001, 0.01, 0.1, 0.2, 0,3],\n",
    "        'subsample': [0.5, 0.6, 0.7, 0.8, 0.9, 1.0],\n",
    "        'colsample_bytree': [0.4, 0.5, 0.6, 0.7, 0.8, 0.9, 1.0],\n",
    "        'colsample_bylevel': [0.4, 0.5, 0.6, 0.7, 0.8, 0.9, 1.0],\n",
    "        'min_child_weight': [0.5, 1.0, 3.0, 5.0, 7.0, 10.0],\n",
    "        'gamma': [0, 0.25, 0.5, 1.0],\n",
    "        'reg_lambda': [0.1, 1.0, 5.0, 10.0, 50.0, 100.0],\n",
    "        'n_estimators': [100]}\n",
    "rsearch = RandomizedSearchCV(estimator = XGB, \n",
    "                             param_distributions=params, \n",
    "                             cv = 4,\n",
    "                             n_iter = 8, \n",
    "                             random_state = 5,scoring = 'f1')\n",
    "rsearch.fit(X_validation, y_validation)\n",
    "\n",
    "best_score = rsearch.best_score_\n",
    "best_params = rsearch.best_params_\n",
    "print(\"Best score: {}\".format(best_score))\n",
    "print(\"Best params: \")\n",
    "\n",
    "for param_name in sorted(best_params.keys()):\n",
    "    print('%s: %r' % (param_name, best_params[param_name]))\n"
   ]
  },
  {
   "cell_type": "code",
   "execution_count": 50,
   "metadata": {},
   "outputs": [
    {
     "data": {
      "text/plain": [
       "0.7244897959183674"
      ]
     },
     "execution_count": 50,
     "metadata": {},
     "output_type": "execute_result"
    }
   ],
   "source": [
    "f1_score(y_validation,XGB.predict(X_validation))"
   ]
  },
  {
   "cell_type": "markdown",
   "metadata": {},
   "source": [
    "The f1 score improves from 0.7245 to 0.7328 on the validation test which represents a 5.6% improvement."
   ]
  },
  {
   "cell_type": "markdown",
   "metadata": {},
   "source": [
    "<a name=\"TITLE3\"></a>\n",
    "## III. Task 3: Evaluation of the Model "
   ]
  },
  {
   "cell_type": "markdown",
   "metadata": {},
   "source": [
    "### 1. Model evaluation <a name=\"subparagraph3.1\"></a>"
   ]
  },
  {
   "cell_type": "markdown",
   "metadata": {},
   "source": [
    "Now we have our final model, let's check its performances on the __test set__: "
   ]
  },
  {
   "cell_type": "code",
   "execution_count": 51,
   "metadata": {},
   "outputs": [],
   "source": [
    "# Creation of the tuned XGBoost Classifier:\n",
    "\n",
    "XGB_optimal = XGBClassifier(subsample = best_params['subsample'], \n",
    "                            silent = best_params['silent'],\n",
    "                            reg_lambda = best_params['reg_lambda'],\n",
    "                            n_estimators = best_params['n_estimators'],\n",
    "                            min_child_weight = best_params['min_child_weight'],\n",
    "                            max_depth = best_params['max_depth'],\n",
    "                            learning_rate = best_params['learning_rate'],\n",
    "                            gamma = best_params['gamma'],\n",
    "                            colsample_bytree = best_params['colsample_bytree'],\n",
    "                            colsample_bylevel = best_params['colsample_bylevel'])"
   ]
  },
  {
   "cell_type": "code",
   "execution_count": 52,
   "metadata": {},
   "outputs": [
    {
     "name": "stdout",
     "output_type": "stream",
     "text": [
      "=== Confusion Matrix ===\n"
     ]
    },
    {
     "data": {
      "image/png": "[encoded data removed]",
      "text/plain": [
       "<Figure size 432x288 with 2 Axes>"
      ]
     },
     "metadata": {},
     "output_type": "display_data"
    },
    {
     "name": "stdout",
     "output_type": "stream",
     "text": [
      "\n",
      "\n",
      "=== Classification Report ===\n",
      "              precision    recall  f1-score   support\n",
      "\n",
      "           0       0.78      0.81      0.79        74\n",
      "           1       0.81      0.78      0.80        78\n",
      "\n",
      "    accuracy                           0.80       152\n",
      "   macro avg       0.80      0.80      0.80       152\n",
      "weighted avg       0.80      0.80      0.80       152\n",
      "\n",
      "\n",
      "\n",
      "=== All AUC Scores ===\n",
      "[0.90625    0.53125    0.91071429 0.66071429 0.78571429 0.875\n",
      " 0.83928571 0.85714286 1.         0.85714286]\n",
      "\n",
      "\n",
      "=== Mean AUC Score ===\n",
      "Mean AUC Score :  0.8223214285714286\n",
      "\n",
      "\n",
      "=== Total count ===\n",
      "Total of active glovers : 74  Predicted number of active glovers : 77\n",
      "Delta = 4.054%\n"
     ]
    }
   ],
   "source": [
    "# Results on the test set\n",
    "XGB_optimal.fit(X_train, y_train)\n",
    "XGB_optimal_predict = XGB.predict(X_test)\n",
    "XGB_cv_score = cross_val_score(XGB_optimal, X_test, y_test, cv=10, scoring='roc_auc')\n",
    "print_metrics(XGB_optimal,XGB_cv_score,X_test,y_test)"
   ]
  },
  {
   "cell_type": "markdown",
   "metadata": {},
   "source": [
    "The ROC AUC is quit high (0.82) as well as the f1 score (0.80). The Delta value (difference between working glovers during the churn window and predicted non-churning glovers) is as expected positive (which favors the market place reliability) but yet small (4%) which guarantee at the same time a good cost efficiency. <br> <br>\n",
    "Depending on the business priority we can still change the value of the threshold:"
   ]
  },
  {
   "cell_type": "code",
   "execution_count": 53,
   "metadata": {},
   "outputs": [],
   "source": [
    "#function that returns the f1 score and the Delta depending on the inputed value of threshold:\n",
    "\n",
    "def scores_threshold(threshold, X_test, y_test, model = XGB_optimal): \n",
    "    prediction = (model.predict_proba(X_test)[:,1] >= threshold).astype(int)\n",
    "    f1 = f1_score(y_test, prediction)\n",
    "    Delta = round((100*(sum(prediction==0) - sum(y_test==0))/sum(y_test==0) ),3)\n",
    "    return f1,Delta"
   ]
  },
  {
   "cell_type": "code",
   "execution_count": 54,
   "metadata": {},
   "outputs": [],
   "source": [
    "# test of several thresholds:\n",
    "f1 = []\n",
    "Delta = []\n",
    "thresholds = np.array(range(400,520,1))*0.001\n",
    "for threshold in (thresholds):\n",
    "    f1.append(scores_threshold(threshold,X_test,y_test)[0])\n",
    "    Delta.append(scores_threshold(threshold,X_test,y_test)[1])"
   ]
  },
  {
   "cell_type": "code",
   "execution_count": 55,
   "metadata": {
    "scrolled": true
   },
   "outputs": [
    {
     "data": {
      "text/plain": [
       "<matplotlib.collections.PathCollection at 0x10be06b50>"
      ]
     },
     "execution_count": 55,
     "metadata": {},
     "output_type": "execute_result"
    },
    {
     "data": {
      "image/png": "[encoded data removed]",
      "text/plain": [
       "<Figure size 432x288 with 1 Axes>"
      ]
     },
     "metadata": {},
     "output_type": "display_data"
    }
   ],
   "source": [
    "plt.scatter(Delta,f1)"
   ]
  },
  {
   "cell_type": "markdown",
   "metadata": {},
   "source": [
    "Now that we have an efficient model, and as said before, if we want to prioritize the reliability we can keen this threshold value and if we want more cost efficiency and a better glovers' income maximization, we can still lower this threshold value. "
   ]
  },
  {
   "cell_type": "markdown",
   "metadata": {},
   "source": [
    "### 2. Model interpretation and features importances <a name=\"subparagraph3.2\"></a>"
   ]
  },
  {
   "cell_type": "markdown",
   "metadata": {},
   "source": [
    "In order to display the feature importance and to interpret our model a posteriori, I decided to retrain the XGBoost classifier with the initial features without the processing used to solve the correlation issues (PCA). <br>\n",
    "As a matter of fact, if the management priority is the __interpretability of the model__, we shouldn't use a PCA but just get rid of feature_5 wich was -1 correlated to feature_4. That way and with an algorithm such as Random Forest or Gradient Tree Boosting, we can avoid the \"black box issue\". <br> \n",
    "On the other hand, if the main goal is the algorithm performance, PCA is a good solution. "
   ]
  },
  {
   "cell_type": "code",
   "execution_count": 56,
   "metadata": {
    "scrolled": true
   },
   "outputs": [
    {
     "name": "stderr",
     "output_type": "stream",
     "text": [
      "100% |########################################################################|\n"
     ]
    },
    {
     "data": {
      "text/html": [
       "<div>\n",
       "<style scoped>\n",
       "    .dataframe tbody tr th:only-of-type {\n",
       "        vertical-align: middle;\n",
       "    }\n",
       "\n",
       "    .dataframe tbody tr th {\n",
       "        vertical-align: top;\n",
       "    }\n",
       "\n",
       "    .dataframe thead th {\n",
       "        text-align: right;\n",
       "    }\n",
       "</style>\n",
       "<table border=\"1\" class=\"dataframe\">\n",
       "  <thead>\n",
       "    <tr style=\"text-align: right;\">\n",
       "      <th></th>\n",
       "      <th>w_0</th>\n",
       "      <th>w_0_feature_1</th>\n",
       "      <th>w_0_feature_2</th>\n",
       "      <th>w_0_feature_3</th>\n",
       "      <th>w_0_feature_4</th>\n",
       "      <th>w_0_feature_5</th>\n",
       "      <th>w_0_feature_6</th>\n",
       "      <th>w_0_feature_7</th>\n",
       "      <th>w_0_feature_8</th>\n",
       "      <th>w_0_feature_9</th>\n",
       "      <th>...</th>\n",
       "      <th>w_7_feature_14</th>\n",
       "      <th>w_7_feature_15</th>\n",
       "      <th>w_7_feature_16</th>\n",
       "      <th>w_7_feature_17</th>\n",
       "      <th>target</th>\n",
       "      <th>lt_feature_2</th>\n",
       "      <th>lt_feature_1_a</th>\n",
       "      <th>lt_feature_1_b</th>\n",
       "      <th>lt_feature_1_c</th>\n",
       "      <th>lt_feature_1_d</th>\n",
       "    </tr>\n",
       "    <tr>\n",
       "      <th>courier</th>\n",
       "      <th></th>\n",
       "      <th></th>\n",
       "      <th></th>\n",
       "      <th></th>\n",
       "      <th></th>\n",
       "      <th></th>\n",
       "      <th></th>\n",
       "      <th></th>\n",
       "      <th></th>\n",
       "      <th></th>\n",
       "      <th></th>\n",
       "      <th></th>\n",
       "      <th></th>\n",
       "      <th></th>\n",
       "      <th></th>\n",
       "      <th></th>\n",
       "      <th></th>\n",
       "      <th></th>\n",
       "      <th></th>\n",
       "      <th></th>\n",
       "      <th></th>\n",
       "    </tr>\n",
       "  </thead>\n",
       "  <tbody>\n",
       "    <tr>\n",
       "      <th>3767</th>\n",
       "      <td>0</td>\n",
       "      <td>-3.70245</td>\n",
       "      <td>44.2322</td>\n",
       "      <td>55.691</td>\n",
       "      <td>0.0686105</td>\n",
       "      <td>0.93139</td>\n",
       "      <td>104.332</td>\n",
       "      <td>0.0593392</td>\n",
       "      <td>3975.81</td>\n",
       "      <td>0.767527</td>\n",
       "      <td>...</td>\n",
       "      <td>0.782381</td>\n",
       "      <td>68.6556</td>\n",
       "      <td>2.25553</td>\n",
       "      <td>12.7894</td>\n",
       "      <td>1</td>\n",
       "      <td>33.0</td>\n",
       "      <td>0</td>\n",
       "      <td>1</td>\n",
       "      <td>0</td>\n",
       "      <td>0</td>\n",
       "    </tr>\n",
       "    <tr>\n",
       "      <th>6282</th>\n",
       "      <td>0</td>\n",
       "      <td>-3.70245</td>\n",
       "      <td>44.2322</td>\n",
       "      <td>55.691</td>\n",
       "      <td>0.0686105</td>\n",
       "      <td>0.93139</td>\n",
       "      <td>104.332</td>\n",
       "      <td>0.0593392</td>\n",
       "      <td>3975.81</td>\n",
       "      <td>0.767527</td>\n",
       "      <td>...</td>\n",
       "      <td>0.9107</td>\n",
       "      <td>65.6188</td>\n",
       "      <td>2</td>\n",
       "      <td>4</td>\n",
       "      <td>0</td>\n",
       "      <td>35.0</td>\n",
       "      <td>1</td>\n",
       "      <td>0</td>\n",
       "      <td>0</td>\n",
       "      <td>0</td>\n",
       "    </tr>\n",
       "    <tr>\n",
       "      <th>10622</th>\n",
       "      <td>1</td>\n",
       "      <td>5</td>\n",
       "      <td>82</td>\n",
       "      <td>45</td>\n",
       "      <td>0.1111</td>\n",
       "      <td>0.8889</td>\n",
       "      <td>100</td>\n",
       "      <td>0.0889</td>\n",
       "      <td>2476.29</td>\n",
       "      <td>0.5333</td>\n",
       "      <td>...</td>\n",
       "      <td>0.782381</td>\n",
       "      <td>68.6556</td>\n",
       "      <td>2.25553</td>\n",
       "      <td>12.7894</td>\n",
       "      <td>1</td>\n",
       "      <td>35.0</td>\n",
       "      <td>0</td>\n",
       "      <td>1</td>\n",
       "      <td>0</td>\n",
       "      <td>0</td>\n",
       "    </tr>\n",
       "    <tr>\n",
       "      <th>13096</th>\n",
       "      <td>0</td>\n",
       "      <td>-3.70245</td>\n",
       "      <td>44.2322</td>\n",
       "      <td>55.691</td>\n",
       "      <td>0.0686105</td>\n",
       "      <td>0.93139</td>\n",
       "      <td>104.332</td>\n",
       "      <td>0.0593392</td>\n",
       "      <td>3975.81</td>\n",
       "      <td>0.767527</td>\n",
       "      <td>...</td>\n",
       "      <td>0.782381</td>\n",
       "      <td>68.6556</td>\n",
       "      <td>2.25553</td>\n",
       "      <td>12.7894</td>\n",
       "      <td>0</td>\n",
       "      <td>35.0</td>\n",
       "      <td>1</td>\n",
       "      <td>0</td>\n",
       "      <td>0</td>\n",
       "      <td>0</td>\n",
       "    </tr>\n",
       "    <tr>\n",
       "      <th>14261</th>\n",
       "      <td>1</td>\n",
       "      <td>4</td>\n",
       "      <td>79</td>\n",
       "      <td>59</td>\n",
       "      <td>0.0339</td>\n",
       "      <td>0.9661</td>\n",
       "      <td>123.576</td>\n",
       "      <td>0.1695</td>\n",
       "      <td>3788.98</td>\n",
       "      <td>0.8136</td>\n",
       "      <td>...</td>\n",
       "      <td>0.9155</td>\n",
       "      <td>44.7132</td>\n",
       "      <td>1</td>\n",
       "      <td>8</td>\n",
       "      <td>1</td>\n",
       "      <td>44.0</td>\n",
       "      <td>1</td>\n",
       "      <td>0</td>\n",
       "      <td>0</td>\n",
       "      <td>0</td>\n",
       "    </tr>\n",
       "  </tbody>\n",
       "</table>\n",
       "<p>5 rows × 150 columns</p>\n",
       "</div>"
      ],
      "text/plain": [
       "        w_0 w_0_feature_1 w_0_feature_2 w_0_feature_3 w_0_feature_4  \\\n",
       "courier                                                               \n",
       "3767      0      -3.70245       44.2322        55.691     0.0686105   \n",
       "6282      0      -3.70245       44.2322        55.691     0.0686105   \n",
       "10622     1             5            82            45        0.1111   \n",
       "13096     0      -3.70245       44.2322        55.691     0.0686105   \n",
       "14261     1             4            79            59        0.0339   \n",
       "\n",
       "        w_0_feature_5 w_0_feature_6 w_0_feature_7 w_0_feature_8 w_0_feature_9  \\\n",
       "courier                                                                         \n",
       "3767          0.93139       104.332     0.0593392       3975.81      0.767527   \n",
       "6282          0.93139       104.332     0.0593392       3975.81      0.767527   \n",
       "10622          0.8889           100        0.0889       2476.29        0.5333   \n",
       "13096         0.93139       104.332     0.0593392       3975.81      0.767527   \n",
       "14261          0.9661       123.576        0.1695       3788.98        0.8136   \n",
       "\n",
       "         ... w_7_feature_14 w_7_feature_15 w_7_feature_16 w_7_feature_17  \\\n",
       "courier  ...                                                               \n",
       "3767     ...       0.782381        68.6556        2.25553        12.7894   \n",
       "6282     ...         0.9107        65.6188              2              4   \n",
       "10622    ...       0.782381        68.6556        2.25553        12.7894   \n",
       "13096    ...       0.782381        68.6556        2.25553        12.7894   \n",
       "14261    ...         0.9155        44.7132              1              8   \n",
       "\n",
       "        target lt_feature_2 lt_feature_1_a lt_feature_1_b lt_feature_1_c  \\\n",
       "courier                                                                    \n",
       "3767         1         33.0              0              1              0   \n",
       "6282         0         35.0              1              0              0   \n",
       "10622        1         35.0              0              1              0   \n",
       "13096        0         35.0              1              0              0   \n",
       "14261        1         44.0              1              0              0   \n",
       "\n",
       "        lt_feature_1_d  \n",
       "courier                 \n",
       "3767                 0  \n",
       "6282                 0  \n",
       "10622                0  \n",
       "13096                0  \n",
       "14261                0  \n",
       "\n",
       "[5 rows x 150 columns]"
      ]
     },
     "execution_count": 56,
     "metadata": {},
     "output_type": "execute_result"
    }
   ],
   "source": [
    "# PROCESSING OF THE DATASET WITHOUT THE PCA\n",
    "\n",
    "df_lifetime = pd.read_csv(r\"Courier_lifetime_data.csv\", sep=\",\")\n",
    "df_week = pd.read_csv(r\"Courier_weekly_data.csv\", sep=\",\")\n",
    "\n",
    "#creation of the columns names:\n",
    "col_name = ['courier']\n",
    "for j in range(12):\n",
    "    col_name.append('w_'+str(j))\n",
    "    for i in range(17):\n",
    "        col_name.append('w_'+str(j)+'_feature_'+str(i+1)) \n",
    "\n",
    "# creation of df_processed which will be used for the exploratory data analysis\n",
    "df_feature_importance = pd.DataFrame([],columns = col_name) \n",
    "# copy of the glovers id:\n",
    "\n",
    "df_feature_importance.courier = df_week.courier.unique()\n",
    "len(df_week.courier.unique())\n",
    "# fill of the 'worked on week i' features:\n",
    "df_feature_importance[['w_' + str(i) for i in range(12)]] = df_worked_week.iloc[:,1:-1]\n",
    "\n",
    "# fill the w_i_feature_j (with the value from df_week when it is avaible (when the glover worked) \n",
    "# or with the mean of the mean of the feature otherwise :\n",
    "\n",
    "x=1\n",
    "pbar = ProgressBar()\n",
    "for i, courier in enumerate(pbar(df_feature_importance.courier)):\n",
    "    for w in range(12):\n",
    "        if df_week[(df_week.courier == courier) & (df_week.week == w)].empty : #if the glover courier didn't work on week w,\n",
    "            #we replace the value by the average value of the feature. \n",
    "            df_feature_importance.iloc[i:i+1,w*18+2:w*18+19] = list(df_week.describe().loc['mean',:])[2:]\n",
    "        else: #otherwise we just input the known value\n",
    "            df_feature_importance.iloc[i:i+1,w*18+2:w*18+19] = list(df_week[(df_week['courier'] == courier) & (df_week['week'] == w)].iloc[0,2:])\n",
    "\n",
    "# add of the target to the data frame:\n",
    "\n",
    "df_feature_importance ['target'] = df_worked_week ['target']\n",
    "\n",
    "# Left join on the lifetime Data Frame to get \n",
    "df_feature_importance = df_feature_importance.merge(df_lifetime, left_on='courier', right_on='courier', how='inner')\n",
    "df_feature_importance = df_feature_importance.rename(columns = {'feature_1':'lt_feature_1','feature_2':'lt_feature_2'})\n",
    "\n",
    "# make courier the key\n",
    "df_feature_importance.set_index('courier', inplace = True)\n",
    "\n",
    "df_feature_importance = pd.concat([df_feature_importance, pd.get_dummies(df_feature_importance['lt_feature_1'],prefix = 'lt_feature_1')], axis = 1)\n",
    "df_feature_importance.drop('lt_feature_1', axis=1, inplace = True)\n",
    "\n",
    "# remove of the weeks 8 to 11:\n",
    "df_feature_importance = pd.concat([df_feature_importance.iloc[:,0:-78], df_feature_importance.iloc[:,-6:]],axis = 1)\n",
    "\n",
    "df_feature_importance.head()\n",
    "\n"
   ]
  },
  {
   "cell_type": "markdown",
   "metadata": {},
   "source": [
    "Since we are using a Tree based method, there is no need to normalize our dataframe here."
   ]
  },
  {
   "cell_type": "code",
   "execution_count": 57,
   "metadata": {},
   "outputs": [],
   "source": [
    "# Train Test split\n",
    "X_feature_importance = df_feature_importance.apply(pd.to_numeric).drop('target', axis=1)\n",
    "y_feature_importance = df_feature_importance['target'].apply(pd.to_numeric)\n",
    "X_train_feature_importance, X_test_feature_importance, y_train_feature_importance, y_test_feature_importance = train_test_split(X_feature_importance, y_feature_importance, test_size = 0.33, random_state = 66)\n",
    "\n",
    "XGB_feature_importance = XGBClassifier()\n",
    "XGB_feature_importance.fit(X_train_feature_importance, y_train_feature_importance)\n",
    "XGB_predict_feature_importance = XGB_feature_importance.predict(X_test_feature_importance)\n",
    "XGB_cv_score_feature_importance = cross_val_score(XGB_feature_importance, X, y, cv=10, scoring='roc_auc')\n"
   ]
  },
  {
   "cell_type": "code",
   "execution_count": 58,
   "metadata": {},
   "outputs": [
    {
     "data": {
      "text/plain": [
       "<matplotlib.axes._subplots.AxesSubplot at 0x1c223d2750>"
      ]
     },
     "execution_count": 58,
     "metadata": {},
     "output_type": "execute_result"
    },
    {
     "data": {
      "image/png": "[encoded data removed]",
      "text/plain": [
       "<Figure size 432x288 with 1 Axes>"
      ]
     },
     "metadata": {},
     "output_type": "display_data"
    }
   ],
   "source": [
    "# Vizualisation of the most influent features in our model: \n",
    "\n",
    "forest_viz = pd.DataFrame()\n",
    "forest_viz['features'] = X_feature_importance.columns\n",
    "forest_viz['importance'] = XGB_feature_importance.feature_importances_\n",
    "forest_viz = forest_viz.sort_values(by=['importance'],ascending=False)[:15]\n",
    "forest_viz = forest_viz.set_index('features')\n",
    "forest_viz.plot(kind='bar',title='Random Forest Features importance')"
   ]
  },
  {
   "cell_type": "markdown",
   "metadata": {},
   "source": [
    "We can notice that the most important features by far are w_7 and w_6: the fact that a glover worked the week before the churn window. "
   ]
  },
  {
   "cell_type": "markdown",
   "metadata": {},
   "source": [
    "\n",
    "### Next steps : <br>\n",
    "Some of the next steps which would be interesting to explore :\n",
    "\n",
    "- We supposed that the glovers geographicall repartition is optimal. But it might not be the case. After a prediction for the next three weeks we could adapt the fleet, but it might not solve all the fleet issues. Indeed, some areas might suffer from a lake of glovers while others would have at the same time too many of them. It would then be relevant to analyse the geographical repartition and to segment our churn prediction by areas. \n",
    "- Another point of interest could be to analyse the potential existence of clusters among the glovers community and figure out if there is different churning behaviours.\n",
    "- Regarding the model we used, none of them really took into account the temporality of our datas. A time series analalysis or a sequential model such as a LSTM could be interesting to try. Concerning the LSTM architecture, regarding the fact that part of the features are temporal (week data) and some are not (lifetime), we could use the following architectures:\n",
    "    + A many-to-many LSTM with 7 cells and a fixed number of outputs concatanated with the lifetime features and then given as an input for a classic Multi Layer Perceptron with a sigmoid output. \n",
    "- Finnally, in order to create a pipeline later on, it would be a good point to gather the differents steps : Data Processing, Training, Prediction; into 3 methods of a global Class. That way we would just have to create an instance of the model, call the three methods and extract the predictions. We could then creat a batch and deploy the tool. "
   ]
  }
 ],
 "metadata": {
  "kernelspec": {
   "display_name": "Python 3",
   "language": "python",
   "name": "python3"
  },
  "language_info": {
   "codemirror_mode": {
    "name": "ipython",
    "version": 3
   },
   "file_extension": ".py",
   "mimetype": "text/x-python",
   "name": "python",
   "nbconvert_exporter": "python",
   "pygments_lexer": "ipython3",
   "version": "3.7.4"
  }
 },
 "nbformat": 4,
 "nbformat_minor": 2
}
